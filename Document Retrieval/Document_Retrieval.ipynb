{
  "nbformat": 4,
  "nbformat_minor": 0,
  "metadata": {
    "colab": {
      "provenance": [],
      "gpuType": "T4",
      "authorship_tag": "ABX9TyPMeEh9lnSJqmpobvpnqJLg",
      "include_colab_link": true
    },
    "kernelspec": {
      "name": "python3",
      "display_name": "Python 3"
    },
    "language_info": {
      "name": "python"
    },
    "accelerator": "GPU",
    "widgets": {
      "application/vnd.jupyter.widget-state+json": {
        "374301a30ad64a549c150b39da14ba96": {
          "model_module": "@jupyter-widgets/controls",
          "model_name": "HBoxModel",
          "model_module_version": "1.5.0",
          "state": {
            "_dom_classes": [],
            "_model_module": "@jupyter-widgets/controls",
            "_model_module_version": "1.5.0",
            "_model_name": "HBoxModel",
            "_view_count": null,
            "_view_module": "@jupyter-widgets/controls",
            "_view_module_version": "1.5.0",
            "_view_name": "HBoxView",
            "box_style": "",
            "children": [
              "IPY_MODEL_f5a0056ea09f4eb4958ee24d9be06699",
              "IPY_MODEL_7989fcce1de943d8b6fa5b07b5830566",
              "IPY_MODEL_249b707cc9394ac6a3517833aaa72834"
            ],
            "layout": "IPY_MODEL_f202f7da964e48b1abc3d6520bbd8e57"
          }
        },
        "f5a0056ea09f4eb4958ee24d9be06699": {
          "model_module": "@jupyter-widgets/controls",
          "model_name": "HTMLModel",
          "model_module_version": "1.5.0",
          "state": {
            "_dom_classes": [],
            "_model_module": "@jupyter-widgets/controls",
            "_model_module_version": "1.5.0",
            "_model_name": "HTMLModel",
            "_view_count": null,
            "_view_module": "@jupyter-widgets/controls",
            "_view_module_version": "1.5.0",
            "_view_name": "HTMLView",
            "description": "",
            "description_tooltip": null,
            "layout": "IPY_MODEL_c7df94e87ff44f389d5589b128f0f325",
            "placeholder": "​",
            "style": "IPY_MODEL_89c64654431d4277861756e4b31cf27a",
            "value": "Batches: 100%"
          }
        },
        "7989fcce1de943d8b6fa5b07b5830566": {
          "model_module": "@jupyter-widgets/controls",
          "model_name": "FloatProgressModel",
          "model_module_version": "1.5.0",
          "state": {
            "_dom_classes": [],
            "_model_module": "@jupyter-widgets/controls",
            "_model_module_version": "1.5.0",
            "_model_name": "FloatProgressModel",
            "_view_count": null,
            "_view_module": "@jupyter-widgets/controls",
            "_view_module_version": "1.5.0",
            "_view_name": "ProgressView",
            "bar_style": "success",
            "description": "",
            "description_tooltip": null,
            "layout": "IPY_MODEL_951655212758408cbfb3c03ea3bc9eed",
            "max": 481,
            "min": 0,
            "orientation": "horizontal",
            "style": "IPY_MODEL_4c94a688d61d4d9aa55193b07f6fe9ef",
            "value": 481
          }
        },
        "249b707cc9394ac6a3517833aaa72834": {
          "model_module": "@jupyter-widgets/controls",
          "model_name": "HTMLModel",
          "model_module_version": "1.5.0",
          "state": {
            "_dom_classes": [],
            "_model_module": "@jupyter-widgets/controls",
            "_model_module_version": "1.5.0",
            "_model_name": "HTMLModel",
            "_view_count": null,
            "_view_module": "@jupyter-widgets/controls",
            "_view_module_version": "1.5.0",
            "_view_name": "HTMLView",
            "description": "",
            "description_tooltip": null,
            "layout": "IPY_MODEL_695feed698b14abc88c1c5ddc47e0c69",
            "placeholder": "​",
            "style": "IPY_MODEL_b3aac28e059243ff99f4d84783387b4f",
            "value": " 481/481 [02:05&lt;00:00, 14.28it/s]"
          }
        },
        "f202f7da964e48b1abc3d6520bbd8e57": {
          "model_module": "@jupyter-widgets/base",
          "model_name": "LayoutModel",
          "model_module_version": "1.2.0",
          "state": {
            "_model_module": "@jupyter-widgets/base",
            "_model_module_version": "1.2.0",
            "_model_name": "LayoutModel",
            "_view_count": null,
            "_view_module": "@jupyter-widgets/base",
            "_view_module_version": "1.2.0",
            "_view_name": "LayoutView",
            "align_content": null,
            "align_items": null,
            "align_self": null,
            "border": null,
            "bottom": null,
            "display": null,
            "flex": null,
            "flex_flow": null,
            "grid_area": null,
            "grid_auto_columns": null,
            "grid_auto_flow": null,
            "grid_auto_rows": null,
            "grid_column": null,
            "grid_gap": null,
            "grid_row": null,
            "grid_template_areas": null,
            "grid_template_columns": null,
            "grid_template_rows": null,
            "height": null,
            "justify_content": null,
            "justify_items": null,
            "left": null,
            "margin": null,
            "max_height": null,
            "max_width": null,
            "min_height": null,
            "min_width": null,
            "object_fit": null,
            "object_position": null,
            "order": null,
            "overflow": null,
            "overflow_x": null,
            "overflow_y": null,
            "padding": null,
            "right": null,
            "top": null,
            "visibility": null,
            "width": null
          }
        },
        "c7df94e87ff44f389d5589b128f0f325": {
          "model_module": "@jupyter-widgets/base",
          "model_name": "LayoutModel",
          "model_module_version": "1.2.0",
          "state": {
            "_model_module": "@jupyter-widgets/base",
            "_model_module_version": "1.2.0",
            "_model_name": "LayoutModel",
            "_view_count": null,
            "_view_module": "@jupyter-widgets/base",
            "_view_module_version": "1.2.0",
            "_view_name": "LayoutView",
            "align_content": null,
            "align_items": null,
            "align_self": null,
            "border": null,
            "bottom": null,
            "display": null,
            "flex": null,
            "flex_flow": null,
            "grid_area": null,
            "grid_auto_columns": null,
            "grid_auto_flow": null,
            "grid_auto_rows": null,
            "grid_column": null,
            "grid_gap": null,
            "grid_row": null,
            "grid_template_areas": null,
            "grid_template_columns": null,
            "grid_template_rows": null,
            "height": null,
            "justify_content": null,
            "justify_items": null,
            "left": null,
            "margin": null,
            "max_height": null,
            "max_width": null,
            "min_height": null,
            "min_width": null,
            "object_fit": null,
            "object_position": null,
            "order": null,
            "overflow": null,
            "overflow_x": null,
            "overflow_y": null,
            "padding": null,
            "right": null,
            "top": null,
            "visibility": null,
            "width": null
          }
        },
        "89c64654431d4277861756e4b31cf27a": {
          "model_module": "@jupyter-widgets/controls",
          "model_name": "DescriptionStyleModel",
          "model_module_version": "1.5.0",
          "state": {
            "_model_module": "@jupyter-widgets/controls",
            "_model_module_version": "1.5.0",
            "_model_name": "DescriptionStyleModel",
            "_view_count": null,
            "_view_module": "@jupyter-widgets/base",
            "_view_module_version": "1.2.0",
            "_view_name": "StyleView",
            "description_width": ""
          }
        },
        "951655212758408cbfb3c03ea3bc9eed": {
          "model_module": "@jupyter-widgets/base",
          "model_name": "LayoutModel",
          "model_module_version": "1.2.0",
          "state": {
            "_model_module": "@jupyter-widgets/base",
            "_model_module_version": "1.2.0",
            "_model_name": "LayoutModel",
            "_view_count": null,
            "_view_module": "@jupyter-widgets/base",
            "_view_module_version": "1.2.0",
            "_view_name": "LayoutView",
            "align_content": null,
            "align_items": null,
            "align_self": null,
            "border": null,
            "bottom": null,
            "display": null,
            "flex": null,
            "flex_flow": null,
            "grid_area": null,
            "grid_auto_columns": null,
            "grid_auto_flow": null,
            "grid_auto_rows": null,
            "grid_column": null,
            "grid_gap": null,
            "grid_row": null,
            "grid_template_areas": null,
            "grid_template_columns": null,
            "grid_template_rows": null,
            "height": null,
            "justify_content": null,
            "justify_items": null,
            "left": null,
            "margin": null,
            "max_height": null,
            "max_width": null,
            "min_height": null,
            "min_width": null,
            "object_fit": null,
            "object_position": null,
            "order": null,
            "overflow": null,
            "overflow_x": null,
            "overflow_y": null,
            "padding": null,
            "right": null,
            "top": null,
            "visibility": null,
            "width": null
          }
        },
        "4c94a688d61d4d9aa55193b07f6fe9ef": {
          "model_module": "@jupyter-widgets/controls",
          "model_name": "ProgressStyleModel",
          "model_module_version": "1.5.0",
          "state": {
            "_model_module": "@jupyter-widgets/controls",
            "_model_module_version": "1.5.0",
            "_model_name": "ProgressStyleModel",
            "_view_count": null,
            "_view_module": "@jupyter-widgets/base",
            "_view_module_version": "1.2.0",
            "_view_name": "StyleView",
            "bar_color": null,
            "description_width": ""
          }
        },
        "695feed698b14abc88c1c5ddc47e0c69": {
          "model_module": "@jupyter-widgets/base",
          "model_name": "LayoutModel",
          "model_module_version": "1.2.0",
          "state": {
            "_model_module": "@jupyter-widgets/base",
            "_model_module_version": "1.2.0",
            "_model_name": "LayoutModel",
            "_view_count": null,
            "_view_module": "@jupyter-widgets/base",
            "_view_module_version": "1.2.0",
            "_view_name": "LayoutView",
            "align_content": null,
            "align_items": null,
            "align_self": null,
            "border": null,
            "bottom": null,
            "display": null,
            "flex": null,
            "flex_flow": null,
            "grid_area": null,
            "grid_auto_columns": null,
            "grid_auto_flow": null,
            "grid_auto_rows": null,
            "grid_column": null,
            "grid_gap": null,
            "grid_row": null,
            "grid_template_areas": null,
            "grid_template_columns": null,
            "grid_template_rows": null,
            "height": null,
            "justify_content": null,
            "justify_items": null,
            "left": null,
            "margin": null,
            "max_height": null,
            "max_width": null,
            "min_height": null,
            "min_width": null,
            "object_fit": null,
            "object_position": null,
            "order": null,
            "overflow": null,
            "overflow_x": null,
            "overflow_y": null,
            "padding": null,
            "right": null,
            "top": null,
            "visibility": null,
            "width": null
          }
        },
        "b3aac28e059243ff99f4d84783387b4f": {
          "model_module": "@jupyter-widgets/controls",
          "model_name": "DescriptionStyleModel",
          "model_module_version": "1.5.0",
          "state": {
            "_model_module": "@jupyter-widgets/controls",
            "_model_module_version": "1.5.0",
            "_model_name": "DescriptionStyleModel",
            "_view_count": null,
            "_view_module": "@jupyter-widgets/base",
            "_view_module_version": "1.2.0",
            "_view_name": "StyleView",
            "description_width": ""
          }
        },
        "8aac76507bfd4c74a9e904a278452206": {
          "model_module": "@jupyter-widgets/controls",
          "model_name": "HBoxModel",
          "model_module_version": "1.5.0",
          "state": {
            "_dom_classes": [],
            "_model_module": "@jupyter-widgets/controls",
            "_model_module_version": "1.5.0",
            "_model_name": "HBoxModel",
            "_view_count": null,
            "_view_module": "@jupyter-widgets/controls",
            "_view_module_version": "1.5.0",
            "_view_name": "HBoxView",
            "box_style": "",
            "children": [
              "IPY_MODEL_357268e266c74ff898c19ac53c6167ff",
              "IPY_MODEL_e3d0e35ee7b94c6bb9986d0642fd85b7",
              "IPY_MODEL_202aba5aa3064d979c1d91f217c0cdaf"
            ],
            "layout": "IPY_MODEL_b37601e0ff024469b2affb1e249b5394"
          }
        },
        "357268e266c74ff898c19ac53c6167ff": {
          "model_module": "@jupyter-widgets/controls",
          "model_name": "HTMLModel",
          "model_module_version": "1.5.0",
          "state": {
            "_dom_classes": [],
            "_model_module": "@jupyter-widgets/controls",
            "_model_module_version": "1.5.0",
            "_model_name": "HTMLModel",
            "_view_count": null,
            "_view_module": "@jupyter-widgets/controls",
            "_view_module_version": "1.5.0",
            "_view_name": "HTMLView",
            "description": "",
            "description_tooltip": null,
            "layout": "IPY_MODEL_467238101e0f4267bfadfb73fabc5487",
            "placeholder": "​",
            "style": "IPY_MODEL_7550d86339ad444e8a4f7a6452b20b64",
            "value": "Batches: 100%"
          }
        },
        "e3d0e35ee7b94c6bb9986d0642fd85b7": {
          "model_module": "@jupyter-widgets/controls",
          "model_name": "FloatProgressModel",
          "model_module_version": "1.5.0",
          "state": {
            "_dom_classes": [],
            "_model_module": "@jupyter-widgets/controls",
            "_model_module_version": "1.5.0",
            "_model_name": "FloatProgressModel",
            "_view_count": null,
            "_view_module": "@jupyter-widgets/controls",
            "_view_module_version": "1.5.0",
            "_view_name": "ProgressView",
            "bar_style": "success",
            "description": "",
            "description_tooltip": null,
            "layout": "IPY_MODEL_5d6f75159f2a43cdb5c7e945cc1a3327",
            "max": 1,
            "min": 0,
            "orientation": "horizontal",
            "style": "IPY_MODEL_83160db215f540fc8d035a8a715cbde6",
            "value": 1
          }
        },
        "202aba5aa3064d979c1d91f217c0cdaf": {
          "model_module": "@jupyter-widgets/controls",
          "model_name": "HTMLModel",
          "model_module_version": "1.5.0",
          "state": {
            "_dom_classes": [],
            "_model_module": "@jupyter-widgets/controls",
            "_model_module_version": "1.5.0",
            "_model_name": "HTMLModel",
            "_view_count": null,
            "_view_module": "@jupyter-widgets/controls",
            "_view_module_version": "1.5.0",
            "_view_name": "HTMLView",
            "description": "",
            "description_tooltip": null,
            "layout": "IPY_MODEL_6b0eb453a3db486e825391014a218250",
            "placeholder": "​",
            "style": "IPY_MODEL_c47866eea9114cc8b80570483ca2ddcb",
            "value": " 1/1 [00:00&lt;00:00, 22.45it/s]"
          }
        },
        "b37601e0ff024469b2affb1e249b5394": {
          "model_module": "@jupyter-widgets/base",
          "model_name": "LayoutModel",
          "model_module_version": "1.2.0",
          "state": {
            "_model_module": "@jupyter-widgets/base",
            "_model_module_version": "1.2.0",
            "_model_name": "LayoutModel",
            "_view_count": null,
            "_view_module": "@jupyter-widgets/base",
            "_view_module_version": "1.2.0",
            "_view_name": "LayoutView",
            "align_content": null,
            "align_items": null,
            "align_self": null,
            "border": null,
            "bottom": null,
            "display": null,
            "flex": null,
            "flex_flow": null,
            "grid_area": null,
            "grid_auto_columns": null,
            "grid_auto_flow": null,
            "grid_auto_rows": null,
            "grid_column": null,
            "grid_gap": null,
            "grid_row": null,
            "grid_template_areas": null,
            "grid_template_columns": null,
            "grid_template_rows": null,
            "height": null,
            "justify_content": null,
            "justify_items": null,
            "left": null,
            "margin": null,
            "max_height": null,
            "max_width": null,
            "min_height": null,
            "min_width": null,
            "object_fit": null,
            "object_position": null,
            "order": null,
            "overflow": null,
            "overflow_x": null,
            "overflow_y": null,
            "padding": null,
            "right": null,
            "top": null,
            "visibility": null,
            "width": null
          }
        },
        "467238101e0f4267bfadfb73fabc5487": {
          "model_module": "@jupyter-widgets/base",
          "model_name": "LayoutModel",
          "model_module_version": "1.2.0",
          "state": {
            "_model_module": "@jupyter-widgets/base",
            "_model_module_version": "1.2.0",
            "_model_name": "LayoutModel",
            "_view_count": null,
            "_view_module": "@jupyter-widgets/base",
            "_view_module_version": "1.2.0",
            "_view_name": "LayoutView",
            "align_content": null,
            "align_items": null,
            "align_self": null,
            "border": null,
            "bottom": null,
            "display": null,
            "flex": null,
            "flex_flow": null,
            "grid_area": null,
            "grid_auto_columns": null,
            "grid_auto_flow": null,
            "grid_auto_rows": null,
            "grid_column": null,
            "grid_gap": null,
            "grid_row": null,
            "grid_template_areas": null,
            "grid_template_columns": null,
            "grid_template_rows": null,
            "height": null,
            "justify_content": null,
            "justify_items": null,
            "left": null,
            "margin": null,
            "max_height": null,
            "max_width": null,
            "min_height": null,
            "min_width": null,
            "object_fit": null,
            "object_position": null,
            "order": null,
            "overflow": null,
            "overflow_x": null,
            "overflow_y": null,
            "padding": null,
            "right": null,
            "top": null,
            "visibility": null,
            "width": null
          }
        },
        "7550d86339ad444e8a4f7a6452b20b64": {
          "model_module": "@jupyter-widgets/controls",
          "model_name": "DescriptionStyleModel",
          "model_module_version": "1.5.0",
          "state": {
            "_model_module": "@jupyter-widgets/controls",
            "_model_module_version": "1.5.0",
            "_model_name": "DescriptionStyleModel",
            "_view_count": null,
            "_view_module": "@jupyter-widgets/base",
            "_view_module_version": "1.2.0",
            "_view_name": "StyleView",
            "description_width": ""
          }
        },
        "5d6f75159f2a43cdb5c7e945cc1a3327": {
          "model_module": "@jupyter-widgets/base",
          "model_name": "LayoutModel",
          "model_module_version": "1.2.0",
          "state": {
            "_model_module": "@jupyter-widgets/base",
            "_model_module_version": "1.2.0",
            "_model_name": "LayoutModel",
            "_view_count": null,
            "_view_module": "@jupyter-widgets/base",
            "_view_module_version": "1.2.0",
            "_view_name": "LayoutView",
            "align_content": null,
            "align_items": null,
            "align_self": null,
            "border": null,
            "bottom": null,
            "display": null,
            "flex": null,
            "flex_flow": null,
            "grid_area": null,
            "grid_auto_columns": null,
            "grid_auto_flow": null,
            "grid_auto_rows": null,
            "grid_column": null,
            "grid_gap": null,
            "grid_row": null,
            "grid_template_areas": null,
            "grid_template_columns": null,
            "grid_template_rows": null,
            "height": null,
            "justify_content": null,
            "justify_items": null,
            "left": null,
            "margin": null,
            "max_height": null,
            "max_width": null,
            "min_height": null,
            "min_width": null,
            "object_fit": null,
            "object_position": null,
            "order": null,
            "overflow": null,
            "overflow_x": null,
            "overflow_y": null,
            "padding": null,
            "right": null,
            "top": null,
            "visibility": null,
            "width": null
          }
        },
        "83160db215f540fc8d035a8a715cbde6": {
          "model_module": "@jupyter-widgets/controls",
          "model_name": "ProgressStyleModel",
          "model_module_version": "1.5.0",
          "state": {
            "_model_module": "@jupyter-widgets/controls",
            "_model_module_version": "1.5.0",
            "_model_name": "ProgressStyleModel",
            "_view_count": null,
            "_view_module": "@jupyter-widgets/base",
            "_view_module_version": "1.2.0",
            "_view_name": "StyleView",
            "bar_color": null,
            "description_width": ""
          }
        },
        "6b0eb453a3db486e825391014a218250": {
          "model_module": "@jupyter-widgets/base",
          "model_name": "LayoutModel",
          "model_module_version": "1.2.0",
          "state": {
            "_model_module": "@jupyter-widgets/base",
            "_model_module_version": "1.2.0",
            "_model_name": "LayoutModel",
            "_view_count": null,
            "_view_module": "@jupyter-widgets/base",
            "_view_module_version": "1.2.0",
            "_view_name": "LayoutView",
            "align_content": null,
            "align_items": null,
            "align_self": null,
            "border": null,
            "bottom": null,
            "display": null,
            "flex": null,
            "flex_flow": null,
            "grid_area": null,
            "grid_auto_columns": null,
            "grid_auto_flow": null,
            "grid_auto_rows": null,
            "grid_column": null,
            "grid_gap": null,
            "grid_row": null,
            "grid_template_areas": null,
            "grid_template_columns": null,
            "grid_template_rows": null,
            "height": null,
            "justify_content": null,
            "justify_items": null,
            "left": null,
            "margin": null,
            "max_height": null,
            "max_width": null,
            "min_height": null,
            "min_width": null,
            "object_fit": null,
            "object_position": null,
            "order": null,
            "overflow": null,
            "overflow_x": null,
            "overflow_y": null,
            "padding": null,
            "right": null,
            "top": null,
            "visibility": null,
            "width": null
          }
        },
        "c47866eea9114cc8b80570483ca2ddcb": {
          "model_module": "@jupyter-widgets/controls",
          "model_name": "DescriptionStyleModel",
          "model_module_version": "1.5.0",
          "state": {
            "_model_module": "@jupyter-widgets/controls",
            "_model_module_version": "1.5.0",
            "_model_name": "DescriptionStyleModel",
            "_view_count": null,
            "_view_module": "@jupyter-widgets/base",
            "_view_module_version": "1.2.0",
            "_view_name": "StyleView",
            "description_width": ""
          }
        },
        "743edeafbbdc4844a5d6a9c65bd6739d": {
          "model_module": "@jupyter-widgets/controls",
          "model_name": "HBoxModel",
          "model_module_version": "1.5.0",
          "state": {
            "_dom_classes": [],
            "_model_module": "@jupyter-widgets/controls",
            "_model_module_version": "1.5.0",
            "_model_name": "HBoxModel",
            "_view_count": null,
            "_view_module": "@jupyter-widgets/controls",
            "_view_module_version": "1.5.0",
            "_view_name": "HBoxView",
            "box_style": "",
            "children": [
              "IPY_MODEL_96f94754be8b434f83376a9f00c4ce95",
              "IPY_MODEL_35b516873cc64eb1837289a1f4499414",
              "IPY_MODEL_694b861937ee4a058514d6cf2c96cf66"
            ],
            "layout": "IPY_MODEL_202103ca8946406f835a5028b73ef636"
          }
        },
        "96f94754be8b434f83376a9f00c4ce95": {
          "model_module": "@jupyter-widgets/controls",
          "model_name": "HTMLModel",
          "model_module_version": "1.5.0",
          "state": {
            "_dom_classes": [],
            "_model_module": "@jupyter-widgets/controls",
            "_model_module_version": "1.5.0",
            "_model_name": "HTMLModel",
            "_view_count": null,
            "_view_module": "@jupyter-widgets/controls",
            "_view_module_version": "1.5.0",
            "_view_name": "HTMLView",
            "description": "",
            "description_tooltip": null,
            "layout": "IPY_MODEL_d5002602c19a46c2ad1a563d38168a60",
            "placeholder": "​",
            "style": "IPY_MODEL_1c28426691a94e63a48b157801c5aaef",
            "value": "Ranking by BM25...: 100%"
          }
        },
        "35b516873cc64eb1837289a1f4499414": {
          "model_module": "@jupyter-widgets/controls",
          "model_name": "FloatProgressModel",
          "model_module_version": "1.5.0",
          "state": {
            "_dom_classes": [],
            "_model_module": "@jupyter-widgets/controls",
            "_model_module_version": "1.5.0",
            "_model_name": "FloatProgressModel",
            "_view_count": null,
            "_view_module": "@jupyter-widgets/controls",
            "_view_module_version": "1.5.0",
            "_view_name": "ProgressView",
            "bar_style": "success",
            "description": "",
            "description_tooltip": null,
            "layout": "IPY_MODEL_c304b2d2d57f4752b88da63fb3466a30",
            "max": 15380,
            "min": 0,
            "orientation": "horizontal",
            "style": "IPY_MODEL_e89fe4414e0345ec9831962b56db5821",
            "value": 15380
          }
        },
        "694b861937ee4a058514d6cf2c96cf66": {
          "model_module": "@jupyter-widgets/controls",
          "model_name": "HTMLModel",
          "model_module_version": "1.5.0",
          "state": {
            "_dom_classes": [],
            "_model_module": "@jupyter-widgets/controls",
            "_model_module_version": "1.5.0",
            "_model_name": "HTMLModel",
            "_view_count": null,
            "_view_module": "@jupyter-widgets/controls",
            "_view_module_version": "1.5.0",
            "_view_name": "HTMLView",
            "description": "",
            "description_tooltip": null,
            "layout": "IPY_MODEL_247149c896f747cdb608d2ead067a62e",
            "placeholder": "​",
            "style": "IPY_MODEL_a8c37e0550514c619394ba50e961895f",
            "value": " 15380/15380 [00:00&lt;00:00, 17066.42 docs/s]"
          }
        },
        "202103ca8946406f835a5028b73ef636": {
          "model_module": "@jupyter-widgets/base",
          "model_name": "LayoutModel",
          "model_module_version": "1.2.0",
          "state": {
            "_model_module": "@jupyter-widgets/base",
            "_model_module_version": "1.2.0",
            "_model_name": "LayoutModel",
            "_view_count": null,
            "_view_module": "@jupyter-widgets/base",
            "_view_module_version": "1.2.0",
            "_view_name": "LayoutView",
            "align_content": null,
            "align_items": null,
            "align_self": null,
            "border": null,
            "bottom": null,
            "display": null,
            "flex": null,
            "flex_flow": null,
            "grid_area": null,
            "grid_auto_columns": null,
            "grid_auto_flow": null,
            "grid_auto_rows": null,
            "grid_column": null,
            "grid_gap": null,
            "grid_row": null,
            "grid_template_areas": null,
            "grid_template_columns": null,
            "grid_template_rows": null,
            "height": null,
            "justify_content": null,
            "justify_items": null,
            "left": null,
            "margin": null,
            "max_height": null,
            "max_width": null,
            "min_height": null,
            "min_width": null,
            "object_fit": null,
            "object_position": null,
            "order": null,
            "overflow": null,
            "overflow_x": null,
            "overflow_y": null,
            "padding": null,
            "right": null,
            "top": null,
            "visibility": null,
            "width": null
          }
        },
        "d5002602c19a46c2ad1a563d38168a60": {
          "model_module": "@jupyter-widgets/base",
          "model_name": "LayoutModel",
          "model_module_version": "1.2.0",
          "state": {
            "_model_module": "@jupyter-widgets/base",
            "_model_module_version": "1.2.0",
            "_model_name": "LayoutModel",
            "_view_count": null,
            "_view_module": "@jupyter-widgets/base",
            "_view_module_version": "1.2.0",
            "_view_name": "LayoutView",
            "align_content": null,
            "align_items": null,
            "align_self": null,
            "border": null,
            "bottom": null,
            "display": null,
            "flex": null,
            "flex_flow": null,
            "grid_area": null,
            "grid_auto_columns": null,
            "grid_auto_flow": null,
            "grid_auto_rows": null,
            "grid_column": null,
            "grid_gap": null,
            "grid_row": null,
            "grid_template_areas": null,
            "grid_template_columns": null,
            "grid_template_rows": null,
            "height": null,
            "justify_content": null,
            "justify_items": null,
            "left": null,
            "margin": null,
            "max_height": null,
            "max_width": null,
            "min_height": null,
            "min_width": null,
            "object_fit": null,
            "object_position": null,
            "order": null,
            "overflow": null,
            "overflow_x": null,
            "overflow_y": null,
            "padding": null,
            "right": null,
            "top": null,
            "visibility": null,
            "width": null
          }
        },
        "1c28426691a94e63a48b157801c5aaef": {
          "model_module": "@jupyter-widgets/controls",
          "model_name": "DescriptionStyleModel",
          "model_module_version": "1.5.0",
          "state": {
            "_model_module": "@jupyter-widgets/controls",
            "_model_module_version": "1.5.0",
            "_model_name": "DescriptionStyleModel",
            "_view_count": null,
            "_view_module": "@jupyter-widgets/base",
            "_view_module_version": "1.2.0",
            "_view_name": "StyleView",
            "description_width": ""
          }
        },
        "c304b2d2d57f4752b88da63fb3466a30": {
          "model_module": "@jupyter-widgets/base",
          "model_name": "LayoutModel",
          "model_module_version": "1.2.0",
          "state": {
            "_model_module": "@jupyter-widgets/base",
            "_model_module_version": "1.2.0",
            "_model_name": "LayoutModel",
            "_view_count": null,
            "_view_module": "@jupyter-widgets/base",
            "_view_module_version": "1.2.0",
            "_view_name": "LayoutView",
            "align_content": null,
            "align_items": null,
            "align_self": null,
            "border": null,
            "bottom": null,
            "display": null,
            "flex": null,
            "flex_flow": null,
            "grid_area": null,
            "grid_auto_columns": null,
            "grid_auto_flow": null,
            "grid_auto_rows": null,
            "grid_column": null,
            "grid_gap": null,
            "grid_row": null,
            "grid_template_areas": null,
            "grid_template_columns": null,
            "grid_template_rows": null,
            "height": null,
            "justify_content": null,
            "justify_items": null,
            "left": null,
            "margin": null,
            "max_height": null,
            "max_width": null,
            "min_height": null,
            "min_width": null,
            "object_fit": null,
            "object_position": null,
            "order": null,
            "overflow": null,
            "overflow_x": null,
            "overflow_y": null,
            "padding": null,
            "right": null,
            "top": null,
            "visibility": null,
            "width": null
          }
        },
        "e89fe4414e0345ec9831962b56db5821": {
          "model_module": "@jupyter-widgets/controls",
          "model_name": "ProgressStyleModel",
          "model_module_version": "1.5.0",
          "state": {
            "_model_module": "@jupyter-widgets/controls",
            "_model_module_version": "1.5.0",
            "_model_name": "ProgressStyleModel",
            "_view_count": null,
            "_view_module": "@jupyter-widgets/base",
            "_view_module_version": "1.2.0",
            "_view_name": "StyleView",
            "bar_color": null,
            "description_width": ""
          }
        },
        "247149c896f747cdb608d2ead067a62e": {
          "model_module": "@jupyter-widgets/base",
          "model_name": "LayoutModel",
          "model_module_version": "1.2.0",
          "state": {
            "_model_module": "@jupyter-widgets/base",
            "_model_module_version": "1.2.0",
            "_model_name": "LayoutModel",
            "_view_count": null,
            "_view_module": "@jupyter-widgets/base",
            "_view_module_version": "1.2.0",
            "_view_name": "LayoutView",
            "align_content": null,
            "align_items": null,
            "align_self": null,
            "border": null,
            "bottom": null,
            "display": null,
            "flex": null,
            "flex_flow": null,
            "grid_area": null,
            "grid_auto_columns": null,
            "grid_auto_flow": null,
            "grid_auto_rows": null,
            "grid_column": null,
            "grid_gap": null,
            "grid_row": null,
            "grid_template_areas": null,
            "grid_template_columns": null,
            "grid_template_rows": null,
            "height": null,
            "justify_content": null,
            "justify_items": null,
            "left": null,
            "margin": null,
            "max_height": null,
            "max_width": null,
            "min_height": null,
            "min_width": null,
            "object_fit": null,
            "object_position": null,
            "order": null,
            "overflow": null,
            "overflow_x": null,
            "overflow_y": null,
            "padding": null,
            "right": null,
            "top": null,
            "visibility": null,
            "width": null
          }
        },
        "a8c37e0550514c619394ba50e961895f": {
          "model_module": "@jupyter-widgets/controls",
          "model_name": "DescriptionStyleModel",
          "model_module_version": "1.5.0",
          "state": {
            "_model_module": "@jupyter-widgets/controls",
            "_model_module_version": "1.5.0",
            "_model_name": "DescriptionStyleModel",
            "_view_count": null,
            "_view_module": "@jupyter-widgets/base",
            "_view_module_version": "1.2.0",
            "_view_name": "StyleView",
            "description_width": ""
          }
        }
      }
    }
  },
  "cells": [
    {
      "cell_type": "markdown",
      "metadata": {
        "id": "view-in-github",
        "colab_type": "text"
      },
      "source": [
        "<a href=\"https://colab.research.google.com/github/Alfred9/Exploring-LLMs/blob/main/Document%20Retrieval/Document_Retrieval.ipynb\" target=\"_parent\"><img src=\"https://colab.research.google.com/assets/colab-badge.svg\" alt=\"Open In Colab\"/></a>"
      ]
    },
    {
      "cell_type": "markdown",
      "source": [
        "### **Document retrieval**\n",
        " is the art of extracting relevant documents from a corpus in response to an input.In this notebbk we leverage `Hybrid retrieval Technique`\n",
        "\n",
        "`Hybrid Retrieval` combines keyword-based and embedding-based retrieval techniques, leveraging the strengths of both approaches. In essence, dense embeddings excel in grasping the contextual nuances of the query, while keyword-based methods excel in matching keywords."
      ],
      "metadata": {
        "id": "RDPDCFyRniM2"
      }
    },
    {
      "cell_type": "code",
      "execution_count": 1,
      "metadata": {
        "colab": {
          "base_uri": "https://localhost:8080/"
        },
        "id": "27m-cvtKA_b_",
        "outputId": "45d20e60-3483-487c-eb76-72c0e74d7af6"
      },
      "outputs": [
        {
          "output_type": "stream",
          "name": "stdout",
          "text": [
            "Requirement already satisfied: haystack-ai in /usr/local/lib/python3.10/dist-packages (2.0.1)\n",
            "Requirement already satisfied: boilerpy3 in /usr/local/lib/python3.10/dist-packages (from haystack-ai) (1.0.7)\n",
            "Requirement already satisfied: haystack-bm25 in /usr/local/lib/python3.10/dist-packages (from haystack-ai) (1.0.2)\n",
            "Requirement already satisfied: jinja2 in /usr/local/lib/python3.10/dist-packages (from haystack-ai) (3.1.3)\n",
            "Requirement already satisfied: lazy-imports in /usr/local/lib/python3.10/dist-packages (from haystack-ai) (0.3.1)\n",
            "Requirement already satisfied: more-itertools in /usr/local/lib/python3.10/dist-packages (from haystack-ai) (10.1.0)\n",
            "Requirement already satisfied: networkx in /usr/local/lib/python3.10/dist-packages (from haystack-ai) (3.3)\n",
            "Requirement already satisfied: numpy in /usr/local/lib/python3.10/dist-packages (from haystack-ai) (1.25.2)\n",
            "Requirement already satisfied: openai>=1.1.0 in /usr/local/lib/python3.10/dist-packages (from haystack-ai) (1.23.2)\n",
            "Requirement already satisfied: pandas in /usr/local/lib/python3.10/dist-packages (from haystack-ai) (2.0.3)\n",
            "Requirement already satisfied: posthog in /usr/local/lib/python3.10/dist-packages (from haystack-ai) (3.5.0)\n",
            "Requirement already satisfied: python-dateutil in /usr/local/lib/python3.10/dist-packages (from haystack-ai) (2.8.2)\n",
            "Requirement already satisfied: pyyaml in /usr/local/lib/python3.10/dist-packages (from haystack-ai) (6.0.1)\n",
            "Requirement already satisfied: requests in /usr/local/lib/python3.10/dist-packages (from haystack-ai) (2.31.0)\n",
            "Requirement already satisfied: tenacity in /usr/local/lib/python3.10/dist-packages (from haystack-ai) (8.2.3)\n",
            "Requirement already satisfied: tqdm in /usr/local/lib/python3.10/dist-packages (from haystack-ai) (4.66.2)\n",
            "Requirement already satisfied: typing-extensions>=4.7 in /usr/local/lib/python3.10/dist-packages (from haystack-ai) (4.11.0)\n",
            "Requirement already satisfied: anyio<5,>=3.5.0 in /usr/local/lib/python3.10/dist-packages (from openai>=1.1.0->haystack-ai) (3.7.1)\n",
            "Requirement already satisfied: distro<2,>=1.7.0 in /usr/lib/python3/dist-packages (from openai>=1.1.0->haystack-ai) (1.7.0)\n",
            "Requirement already satisfied: httpx<1,>=0.23.0 in /usr/local/lib/python3.10/dist-packages (from openai>=1.1.0->haystack-ai) (0.27.0)\n",
            "Requirement already satisfied: pydantic<3,>=1.9.0 in /usr/local/lib/python3.10/dist-packages (from openai>=1.1.0->haystack-ai) (2.7.0)\n",
            "Requirement already satisfied: sniffio in /usr/local/lib/python3.10/dist-packages (from openai>=1.1.0->haystack-ai) (1.3.1)\n",
            "Requirement already satisfied: MarkupSafe>=2.0 in /usr/local/lib/python3.10/dist-packages (from jinja2->haystack-ai) (2.1.5)\n",
            "Requirement already satisfied: pytz>=2020.1 in /usr/local/lib/python3.10/dist-packages (from pandas->haystack-ai) (2023.4)\n",
            "Requirement already satisfied: tzdata>=2022.1 in /usr/local/lib/python3.10/dist-packages (from pandas->haystack-ai) (2024.1)\n",
            "Requirement already satisfied: six>=1.5 in /usr/local/lib/python3.10/dist-packages (from python-dateutil->haystack-ai) (1.16.0)\n",
            "Requirement already satisfied: monotonic>=1.5 in /usr/local/lib/python3.10/dist-packages (from posthog->haystack-ai) (1.6)\n",
            "Requirement already satisfied: backoff>=1.10.0 in /usr/local/lib/python3.10/dist-packages (from posthog->haystack-ai) (2.2.1)\n",
            "Requirement already satisfied: charset-normalizer<4,>=2 in /usr/local/lib/python3.10/dist-packages (from requests->haystack-ai) (3.3.2)\n",
            "Requirement already satisfied: idna<4,>=2.5 in /usr/local/lib/python3.10/dist-packages (from requests->haystack-ai) (3.7)\n",
            "Requirement already satisfied: urllib3<3,>=1.21.1 in /usr/local/lib/python3.10/dist-packages (from requests->haystack-ai) (2.0.7)\n",
            "Requirement already satisfied: certifi>=2017.4.17 in /usr/local/lib/python3.10/dist-packages (from requests->haystack-ai) (2024.2.2)\n",
            "Requirement already satisfied: exceptiongroup in /usr/local/lib/python3.10/dist-packages (from anyio<5,>=3.5.0->openai>=1.1.0->haystack-ai) (1.2.1)\n",
            "Requirement already satisfied: httpcore==1.* in /usr/local/lib/python3.10/dist-packages (from httpx<1,>=0.23.0->openai>=1.1.0->haystack-ai) (1.0.5)\n",
            "Requirement already satisfied: h11<0.15,>=0.13 in /usr/local/lib/python3.10/dist-packages (from httpcore==1.*->httpx<1,>=0.23.0->openai>=1.1.0->haystack-ai) (0.14.0)\n",
            "Requirement already satisfied: annotated-types>=0.4.0 in /usr/local/lib/python3.10/dist-packages (from pydantic<3,>=1.9.0->openai>=1.1.0->haystack-ai) (0.6.0)\n",
            "Requirement already satisfied: pydantic-core==2.18.1 in /usr/local/lib/python3.10/dist-packages (from pydantic<3,>=1.9.0->openai>=1.1.0->haystack-ai) (2.18.1)\n",
            "Requirement already satisfied: datasets>=2.6.1 in /usr/local/lib/python3.10/dist-packages (2.19.0)\n",
            "Requirement already satisfied: filelock in /usr/local/lib/python3.10/dist-packages (from datasets>=2.6.1) (3.13.4)\n",
            "Requirement already satisfied: numpy>=1.17 in /usr/local/lib/python3.10/dist-packages (from datasets>=2.6.1) (1.25.2)\n",
            "Requirement already satisfied: pyarrow>=12.0.0 in /usr/local/lib/python3.10/dist-packages (from datasets>=2.6.1) (14.0.2)\n",
            "Requirement already satisfied: pyarrow-hotfix in /usr/local/lib/python3.10/dist-packages (from datasets>=2.6.1) (0.6)\n",
            "Requirement already satisfied: dill<0.3.9,>=0.3.0 in /usr/local/lib/python3.10/dist-packages (from datasets>=2.6.1) (0.3.8)\n",
            "Requirement already satisfied: pandas in /usr/local/lib/python3.10/dist-packages (from datasets>=2.6.1) (2.0.3)\n",
            "Requirement already satisfied: requests>=2.19.0 in /usr/local/lib/python3.10/dist-packages (from datasets>=2.6.1) (2.31.0)\n",
            "Requirement already satisfied: tqdm>=4.62.1 in /usr/local/lib/python3.10/dist-packages (from datasets>=2.6.1) (4.66.2)\n",
            "Requirement already satisfied: xxhash in /usr/local/lib/python3.10/dist-packages (from datasets>=2.6.1) (3.4.1)\n",
            "Requirement already satisfied: multiprocess in /usr/local/lib/python3.10/dist-packages (from datasets>=2.6.1) (0.70.16)\n",
            "Requirement already satisfied: fsspec[http]<=2024.3.1,>=2023.1.0 in /usr/local/lib/python3.10/dist-packages (from datasets>=2.6.1) (2023.6.0)\n",
            "Requirement already satisfied: aiohttp in /usr/local/lib/python3.10/dist-packages (from datasets>=2.6.1) (3.9.5)\n",
            "Requirement already satisfied: huggingface-hub>=0.21.2 in /usr/local/lib/python3.10/dist-packages (from datasets>=2.6.1) (0.22.2)\n",
            "Requirement already satisfied: packaging in /usr/local/lib/python3.10/dist-packages (from datasets>=2.6.1) (24.0)\n",
            "Requirement already satisfied: pyyaml>=5.1 in /usr/local/lib/python3.10/dist-packages (from datasets>=2.6.1) (6.0.1)\n",
            "Requirement already satisfied: aiosignal>=1.1.2 in /usr/local/lib/python3.10/dist-packages (from aiohttp->datasets>=2.6.1) (1.3.1)\n",
            "Requirement already satisfied: attrs>=17.3.0 in /usr/local/lib/python3.10/dist-packages (from aiohttp->datasets>=2.6.1) (23.2.0)\n",
            "Requirement already satisfied: frozenlist>=1.1.1 in /usr/local/lib/python3.10/dist-packages (from aiohttp->datasets>=2.6.1) (1.4.1)\n",
            "Requirement already satisfied: multidict<7.0,>=4.5 in /usr/local/lib/python3.10/dist-packages (from aiohttp->datasets>=2.6.1) (6.0.5)\n",
            "Requirement already satisfied: yarl<2.0,>=1.0 in /usr/local/lib/python3.10/dist-packages (from aiohttp->datasets>=2.6.1) (1.9.4)\n",
            "Requirement already satisfied: async-timeout<5.0,>=4.0 in /usr/local/lib/python3.10/dist-packages (from aiohttp->datasets>=2.6.1) (4.0.3)\n",
            "Requirement already satisfied: typing-extensions>=3.7.4.3 in /usr/local/lib/python3.10/dist-packages (from huggingface-hub>=0.21.2->datasets>=2.6.1) (4.11.0)\n",
            "Requirement already satisfied: charset-normalizer<4,>=2 in /usr/local/lib/python3.10/dist-packages (from requests>=2.19.0->datasets>=2.6.1) (3.3.2)\n",
            "Requirement already satisfied: idna<4,>=2.5 in /usr/local/lib/python3.10/dist-packages (from requests>=2.19.0->datasets>=2.6.1) (3.7)\n",
            "Requirement already satisfied: urllib3<3,>=1.21.1 in /usr/local/lib/python3.10/dist-packages (from requests>=2.19.0->datasets>=2.6.1) (2.0.7)\n",
            "Requirement already satisfied: certifi>=2017.4.17 in /usr/local/lib/python3.10/dist-packages (from requests>=2.19.0->datasets>=2.6.1) (2024.2.2)\n",
            "Requirement already satisfied: python-dateutil>=2.8.2 in /usr/local/lib/python3.10/dist-packages (from pandas->datasets>=2.6.1) (2.8.2)\n",
            "Requirement already satisfied: pytz>=2020.1 in /usr/local/lib/python3.10/dist-packages (from pandas->datasets>=2.6.1) (2023.4)\n",
            "Requirement already satisfied: tzdata>=2022.1 in /usr/local/lib/python3.10/dist-packages (from pandas->datasets>=2.6.1) (2024.1)\n",
            "Requirement already satisfied: six>=1.5 in /usr/local/lib/python3.10/dist-packages (from python-dateutil>=2.8.2->pandas->datasets>=2.6.1) (1.16.0)\n",
            "Requirement already satisfied: sentence-transformers>=2.2.0 in /usr/local/lib/python3.10/dist-packages (2.7.0)\n",
            "Requirement already satisfied: transformers<5.0.0,>=4.34.0 in /usr/local/lib/python3.10/dist-packages (from sentence-transformers>=2.2.0) (4.40.0)\n",
            "Requirement already satisfied: tqdm in /usr/local/lib/python3.10/dist-packages (from sentence-transformers>=2.2.0) (4.66.2)\n",
            "Requirement already satisfied: torch>=1.11.0 in /usr/local/lib/python3.10/dist-packages (from sentence-transformers>=2.2.0) (2.2.1+cu121)\n",
            "Requirement already satisfied: numpy in /usr/local/lib/python3.10/dist-packages (from sentence-transformers>=2.2.0) (1.25.2)\n",
            "Requirement already satisfied: scikit-learn in /usr/local/lib/python3.10/dist-packages (from sentence-transformers>=2.2.0) (1.2.2)\n",
            "Requirement already satisfied: scipy in /usr/local/lib/python3.10/dist-packages (from sentence-transformers>=2.2.0) (1.11.4)\n",
            "Requirement already satisfied: huggingface-hub>=0.15.1 in /usr/local/lib/python3.10/dist-packages (from sentence-transformers>=2.2.0) (0.22.2)\n",
            "Requirement already satisfied: Pillow in /usr/local/lib/python3.10/dist-packages (from sentence-transformers>=2.2.0) (9.4.0)\n",
            "Requirement already satisfied: filelock in /usr/local/lib/python3.10/dist-packages (from huggingface-hub>=0.15.1->sentence-transformers>=2.2.0) (3.13.4)\n",
            "Requirement already satisfied: fsspec>=2023.5.0 in /usr/local/lib/python3.10/dist-packages (from huggingface-hub>=0.15.1->sentence-transformers>=2.2.0) (2023.6.0)\n",
            "Requirement already satisfied: packaging>=20.9 in /usr/local/lib/python3.10/dist-packages (from huggingface-hub>=0.15.1->sentence-transformers>=2.2.0) (24.0)\n",
            "Requirement already satisfied: pyyaml>=5.1 in /usr/local/lib/python3.10/dist-packages (from huggingface-hub>=0.15.1->sentence-transformers>=2.2.0) (6.0.1)\n",
            "Requirement already satisfied: requests in /usr/local/lib/python3.10/dist-packages (from huggingface-hub>=0.15.1->sentence-transformers>=2.2.0) (2.31.0)\n",
            "Requirement already satisfied: typing-extensions>=3.7.4.3 in /usr/local/lib/python3.10/dist-packages (from huggingface-hub>=0.15.1->sentence-transformers>=2.2.0) (4.11.0)\n",
            "Requirement already satisfied: sympy in /usr/local/lib/python3.10/dist-packages (from torch>=1.11.0->sentence-transformers>=2.2.0) (1.12)\n",
            "Requirement already satisfied: networkx in /usr/local/lib/python3.10/dist-packages (from torch>=1.11.0->sentence-transformers>=2.2.0) (3.3)\n",
            "Requirement already satisfied: jinja2 in /usr/local/lib/python3.10/dist-packages (from torch>=1.11.0->sentence-transformers>=2.2.0) (3.1.3)\n",
            "Requirement already satisfied: nvidia-cuda-nvrtc-cu12==12.1.105 in /usr/local/lib/python3.10/dist-packages (from torch>=1.11.0->sentence-transformers>=2.2.0) (12.1.105)\n",
            "Requirement already satisfied: nvidia-cuda-runtime-cu12==12.1.105 in /usr/local/lib/python3.10/dist-packages (from torch>=1.11.0->sentence-transformers>=2.2.0) (12.1.105)\n",
            "Requirement already satisfied: nvidia-cuda-cupti-cu12==12.1.105 in /usr/local/lib/python3.10/dist-packages (from torch>=1.11.0->sentence-transformers>=2.2.0) (12.1.105)\n",
            "Requirement already satisfied: nvidia-cudnn-cu12==8.9.2.26 in /usr/local/lib/python3.10/dist-packages (from torch>=1.11.0->sentence-transformers>=2.2.0) (8.9.2.26)\n",
            "Requirement already satisfied: nvidia-cublas-cu12==12.1.3.1 in /usr/local/lib/python3.10/dist-packages (from torch>=1.11.0->sentence-transformers>=2.2.0) (12.1.3.1)\n",
            "Requirement already satisfied: nvidia-cufft-cu12==11.0.2.54 in /usr/local/lib/python3.10/dist-packages (from torch>=1.11.0->sentence-transformers>=2.2.0) (11.0.2.54)\n",
            "Requirement already satisfied: nvidia-curand-cu12==10.3.2.106 in /usr/local/lib/python3.10/dist-packages (from torch>=1.11.0->sentence-transformers>=2.2.0) (10.3.2.106)\n",
            "Requirement already satisfied: nvidia-cusolver-cu12==11.4.5.107 in /usr/local/lib/python3.10/dist-packages (from torch>=1.11.0->sentence-transformers>=2.2.0) (11.4.5.107)\n",
            "Requirement already satisfied: nvidia-cusparse-cu12==12.1.0.106 in /usr/local/lib/python3.10/dist-packages (from torch>=1.11.0->sentence-transformers>=2.2.0) (12.1.0.106)\n",
            "Requirement already satisfied: nvidia-nccl-cu12==2.19.3 in /usr/local/lib/python3.10/dist-packages (from torch>=1.11.0->sentence-transformers>=2.2.0) (2.19.3)\n",
            "Requirement already satisfied: nvidia-nvtx-cu12==12.1.105 in /usr/local/lib/python3.10/dist-packages (from torch>=1.11.0->sentence-transformers>=2.2.0) (12.1.105)\n",
            "Requirement already satisfied: triton==2.2.0 in /usr/local/lib/python3.10/dist-packages (from torch>=1.11.0->sentence-transformers>=2.2.0) (2.2.0)\n",
            "Requirement already satisfied: nvidia-nvjitlink-cu12 in /usr/local/lib/python3.10/dist-packages (from nvidia-cusolver-cu12==11.4.5.107->torch>=1.11.0->sentence-transformers>=2.2.0) (12.4.127)\n",
            "Requirement already satisfied: regex!=2019.12.17 in /usr/local/lib/python3.10/dist-packages (from transformers<5.0.0,>=4.34.0->sentence-transformers>=2.2.0) (2023.12.25)\n",
            "Requirement already satisfied: tokenizers<0.20,>=0.19 in /usr/local/lib/python3.10/dist-packages (from transformers<5.0.0,>=4.34.0->sentence-transformers>=2.2.0) (0.19.1)\n",
            "Requirement already satisfied: safetensors>=0.4.1 in /usr/local/lib/python3.10/dist-packages (from transformers<5.0.0,>=4.34.0->sentence-transformers>=2.2.0) (0.4.3)\n",
            "Requirement already satisfied: joblib>=1.1.1 in /usr/local/lib/python3.10/dist-packages (from scikit-learn->sentence-transformers>=2.2.0) (1.4.0)\n",
            "Requirement already satisfied: threadpoolctl>=2.0.0 in /usr/local/lib/python3.10/dist-packages (from scikit-learn->sentence-transformers>=2.2.0) (3.4.0)\n",
            "Requirement already satisfied: MarkupSafe>=2.0 in /usr/local/lib/python3.10/dist-packages (from jinja2->torch>=1.11.0->sentence-transformers>=2.2.0) (2.1.5)\n",
            "Requirement already satisfied: charset-normalizer<4,>=2 in /usr/local/lib/python3.10/dist-packages (from requests->huggingface-hub>=0.15.1->sentence-transformers>=2.2.0) (3.3.2)\n",
            "Requirement already satisfied: idna<4,>=2.5 in /usr/local/lib/python3.10/dist-packages (from requests->huggingface-hub>=0.15.1->sentence-transformers>=2.2.0) (3.7)\n",
            "Requirement already satisfied: urllib3<3,>=1.21.1 in /usr/local/lib/python3.10/dist-packages (from requests->huggingface-hub>=0.15.1->sentence-transformers>=2.2.0) (2.0.7)\n",
            "Requirement already satisfied: certifi>=2017.4.17 in /usr/local/lib/python3.10/dist-packages (from requests->huggingface-hub>=0.15.1->sentence-transformers>=2.2.0) (2024.2.2)\n",
            "Requirement already satisfied: mpmath>=0.19 in /usr/local/lib/python3.10/dist-packages (from sympy->torch>=1.11.0->sentence-transformers>=2.2.0) (1.3.0)\n",
            "Requirement already satisfied: accelerate in /usr/local/lib/python3.10/dist-packages (0.29.3)\n",
            "Requirement already satisfied: numpy>=1.17 in /usr/local/lib/python3.10/dist-packages (from accelerate) (1.25.2)\n",
            "Requirement already satisfied: packaging>=20.0 in /usr/local/lib/python3.10/dist-packages (from accelerate) (24.0)\n",
            "Requirement already satisfied: psutil in /usr/local/lib/python3.10/dist-packages (from accelerate) (5.9.5)\n",
            "Requirement already satisfied: pyyaml in /usr/local/lib/python3.10/dist-packages (from accelerate) (6.0.1)\n",
            "Requirement already satisfied: torch>=1.10.0 in /usr/local/lib/python3.10/dist-packages (from accelerate) (2.2.1+cu121)\n",
            "Requirement already satisfied: huggingface-hub in /usr/local/lib/python3.10/dist-packages (from accelerate) (0.22.2)\n",
            "Requirement already satisfied: safetensors>=0.3.1 in /usr/local/lib/python3.10/dist-packages (from accelerate) (0.4.3)\n",
            "Requirement already satisfied: filelock in /usr/local/lib/python3.10/dist-packages (from torch>=1.10.0->accelerate) (3.13.4)\n",
            "Requirement already satisfied: typing-extensions>=4.8.0 in /usr/local/lib/python3.10/dist-packages (from torch>=1.10.0->accelerate) (4.11.0)\n",
            "Requirement already satisfied: sympy in /usr/local/lib/python3.10/dist-packages (from torch>=1.10.0->accelerate) (1.12)\n",
            "Requirement already satisfied: networkx in /usr/local/lib/python3.10/dist-packages (from torch>=1.10.0->accelerate) (3.3)\n",
            "Requirement already satisfied: jinja2 in /usr/local/lib/python3.10/dist-packages (from torch>=1.10.0->accelerate) (3.1.3)\n",
            "Requirement already satisfied: fsspec in /usr/local/lib/python3.10/dist-packages (from torch>=1.10.0->accelerate) (2023.6.0)\n",
            "Requirement already satisfied: nvidia-cuda-nvrtc-cu12==12.1.105 in /usr/local/lib/python3.10/dist-packages (from torch>=1.10.0->accelerate) (12.1.105)\n",
            "Requirement already satisfied: nvidia-cuda-runtime-cu12==12.1.105 in /usr/local/lib/python3.10/dist-packages (from torch>=1.10.0->accelerate) (12.1.105)\n",
            "Requirement already satisfied: nvidia-cuda-cupti-cu12==12.1.105 in /usr/local/lib/python3.10/dist-packages (from torch>=1.10.0->accelerate) (12.1.105)\n",
            "Requirement already satisfied: nvidia-cudnn-cu12==8.9.2.26 in /usr/local/lib/python3.10/dist-packages (from torch>=1.10.0->accelerate) (8.9.2.26)\n",
            "Requirement already satisfied: nvidia-cublas-cu12==12.1.3.1 in /usr/local/lib/python3.10/dist-packages (from torch>=1.10.0->accelerate) (12.1.3.1)\n",
            "Requirement already satisfied: nvidia-cufft-cu12==11.0.2.54 in /usr/local/lib/python3.10/dist-packages (from torch>=1.10.0->accelerate) (11.0.2.54)\n",
            "Requirement already satisfied: nvidia-curand-cu12==10.3.2.106 in /usr/local/lib/python3.10/dist-packages (from torch>=1.10.0->accelerate) (10.3.2.106)\n",
            "Requirement already satisfied: nvidia-cusolver-cu12==11.4.5.107 in /usr/local/lib/python3.10/dist-packages (from torch>=1.10.0->accelerate) (11.4.5.107)\n",
            "Requirement already satisfied: nvidia-cusparse-cu12==12.1.0.106 in /usr/local/lib/python3.10/dist-packages (from torch>=1.10.0->accelerate) (12.1.0.106)\n",
            "Requirement already satisfied: nvidia-nccl-cu12==2.19.3 in /usr/local/lib/python3.10/dist-packages (from torch>=1.10.0->accelerate) (2.19.3)\n",
            "Requirement already satisfied: nvidia-nvtx-cu12==12.1.105 in /usr/local/lib/python3.10/dist-packages (from torch>=1.10.0->accelerate) (12.1.105)\n",
            "Requirement already satisfied: triton==2.2.0 in /usr/local/lib/python3.10/dist-packages (from torch>=1.10.0->accelerate) (2.2.0)\n",
            "Requirement already satisfied: nvidia-nvjitlink-cu12 in /usr/local/lib/python3.10/dist-packages (from nvidia-cusolver-cu12==11.4.5.107->torch>=1.10.0->accelerate) (12.4.127)\n",
            "Requirement already satisfied: requests in /usr/local/lib/python3.10/dist-packages (from huggingface-hub->accelerate) (2.31.0)\n",
            "Requirement already satisfied: tqdm>=4.42.1 in /usr/local/lib/python3.10/dist-packages (from huggingface-hub->accelerate) (4.66.2)\n",
            "Requirement already satisfied: MarkupSafe>=2.0 in /usr/local/lib/python3.10/dist-packages (from jinja2->torch>=1.10.0->accelerate) (2.1.5)\n",
            "Requirement already satisfied: charset-normalizer<4,>=2 in /usr/local/lib/python3.10/dist-packages (from requests->huggingface-hub->accelerate) (3.3.2)\n",
            "Requirement already satisfied: idna<4,>=2.5 in /usr/local/lib/python3.10/dist-packages (from requests->huggingface-hub->accelerate) (3.7)\n",
            "Requirement already satisfied: urllib3<3,>=1.21.1 in /usr/local/lib/python3.10/dist-packages (from requests->huggingface-hub->accelerate) (2.0.7)\n",
            "Requirement already satisfied: certifi>=2017.4.17 in /usr/local/lib/python3.10/dist-packages (from requests->huggingface-hub->accelerate) (2024.2.2)\n",
            "Requirement already satisfied: mpmath>=0.19 in /usr/local/lib/python3.10/dist-packages (from sympy->torch>=1.10.0->accelerate) (1.3.0)\n"
          ]
        }
      ],
      "source": [
        "!pip install haystack-ai\n",
        "!pip install \"datasets >=2.6.1\"\n",
        "!pip install \"sentence-transformers >=2.2.0\"\n",
        "!pip install accelerate"
      ]
    },
    {
      "cell_type": "markdown",
      "source": [
        "#### **Initializing DocumentStore**\n",
        "\n",
        "We use  `InMemoryDocumentStore` to intitialize the DocumentStore  that stores the Documents that our system uses to find answers to the questions."
      ],
      "metadata": {
        "id": "EBgpeI-pj1Be"
      }
    },
    {
      "cell_type": "code",
      "source": [
        "from haystack.document_stores.in_memory import InMemoryDocumentStore\n",
        "document_store =InMemoryDocumentStore()"
      ],
      "metadata": {
        "id": "Pbg39VDHBDYi"
      },
      "execution_count": 2,
      "outputs": []
    },
    {
      "cell_type": "markdown",
      "source": [
        "#### **Fetching and Processing Document**\n",
        "\n",
        "We use the PubMed datasets from  Hugging Face Hub by anakin87/medrag-pubmed-chunk."
      ],
      "metadata": {
        "id": "aZnsZNpzD1Wa"
      }
    },
    {
      "cell_type": "code",
      "source": [
        "from datasets import load_dataset\n",
        "from haystack import Document\n",
        "\n",
        "dataset = load_dataset(\"anakin87/medrag-pubmed-chunk\", split= \"train\")\n",
        "\n",
        "\n"
      ],
      "metadata": {
        "id": "j8JYGpiiD07L"
      },
      "execution_count": 3,
      "outputs": []
    },
    {
      "cell_type": "code",
      "source": [
        "#transform data from dataset into a list of Document objects,\n",
        "#with each Document containing content and metadata extracted from the corresponding item in the dataset.\n",
        "\n",
        "docs = []\n",
        "for doc in dataset:\n",
        "  docs.append (\n",
        "      Document(content=doc[\"contents\"], meta={\"title\": doc[\"title\"], \"abstract\":doc[\"content\"], \"pmid\": doc[\"id\"]})\n",
        "  )"
      ],
      "metadata": {
        "id": "GCj1I7QtD_B6"
      },
      "execution_count": 4,
      "outputs": []
    },
    {
      "cell_type": "markdown",
      "source": [
        "#### **Indexing Documents with a Pipeline**\n",
        "\n",
        "Let's Create a pipeline to store the data in the document store with their embedding.\n",
        " We use  a `DocumentSplitter` to split documents into chunks of 512 words, `SentenceTransformersDocumentEmbedder` to create document embeddings for dense retrieval and `DocumentWriter` to write documents to the document store."
      ],
      "metadata": {
        "id": "Xys5Li-7Jsw0"
      }
    },
    {
      "cell_type": "code",
      "source": [
        "from haystack.components.preprocessors.document_splitter import DocumentSplitter\n",
        "from haystack.components.embedders import SentenceTransformersDocumentEmbedder\n",
        "from haystack.components.writers import DocumentWriter\n",
        "from haystack import Pipeline\n",
        "from haystack.utils import ComponentDevice\n",
        "\n",
        "\n",
        "document_splitter = DocumentSplitter(split_by ='word', split_length=512, split_overlap=32)\n",
        "document_embedder = SentenceTransformersDocumentEmbedder(model=\"BAAI/bge-small-en-v1.5\", device=ComponentDevice.from_str(\"cuda:0\"))\n",
        "document_writer = DocumentWriter(document_store)"
      ],
      "metadata": {
        "id": "7oEyGahrDzBz"
      },
      "execution_count": 5,
      "outputs": []
    },
    {
      "cell_type": "code",
      "source": [
        "#sets up a pipeline for document processing, with three main components:\n",
        "# a document splitter, a document embedder, and a document writer\n",
        "indexing_pipeline = Pipeline()\n",
        "indexing_pipeline.add_component(\"document_splitter\", document_splitter)\n",
        "indexing_pipeline.add_component(\"document_embedder\", document_embedder)\n",
        "indexing_pipeline.add_component(\"document_writer\", document_writer)"
      ],
      "metadata": {
        "id": "SZQks5sNDzGz"
      },
      "execution_count": 6,
      "outputs": []
    },
    {
      "cell_type": "code",
      "source": [
        "# connect pipeline components and then run the pipeline on the documents\n",
        "indexing_pipeline.connect(\"document_splitter\", \"document_embedder\")\n",
        "indexing_pipeline.connect(\"document_embedder\", \"document_writer\")\n",
        "\n",
        "indexing_pipeline.run({\"document_splitter\": {\"documents\": docs}})"
      ],
      "metadata": {
        "colab": {
          "base_uri": "https://localhost:8080/",
          "height": 66,
          "referenced_widgets": [
            "374301a30ad64a549c150b39da14ba96",
            "f5a0056ea09f4eb4958ee24d9be06699",
            "7989fcce1de943d8b6fa5b07b5830566",
            "249b707cc9394ac6a3517833aaa72834",
            "f202f7da964e48b1abc3d6520bbd8e57",
            "c7df94e87ff44f389d5589b128f0f325",
            "89c64654431d4277861756e4b31cf27a",
            "951655212758408cbfb3c03ea3bc9eed",
            "4c94a688d61d4d9aa55193b07f6fe9ef",
            "695feed698b14abc88c1c5ddc47e0c69",
            "b3aac28e059243ff99f4d84783387b4f"
          ]
        },
        "id": "WZLa5Rp7BDbD",
        "outputId": "3f55b1a8-208f-4267-a28d-f98e66e0b721"
      },
      "execution_count": 7,
      "outputs": [
        {
          "output_type": "display_data",
          "data": {
            "text/plain": [
              "Batches:   0%|          | 0/481 [00:00<?, ?it/s]"
            ],
            "application/vnd.jupyter.widget-view+json": {
              "version_major": 2,
              "version_minor": 0,
              "model_id": "374301a30ad64a549c150b39da14ba96"
            }
          },
          "metadata": {}
        },
        {
          "output_type": "execute_result",
          "data": {
            "text/plain": [
              "{'document_writer': {'documents_written': 15380}}"
            ]
          },
          "metadata": {},
          "execution_count": 7
        }
      ]
    },
    {
      "cell_type": "markdown",
      "source": [
        "#### **Creating a hybrid retrieval Pipeline**\n",
        "\n",
        "A hybrid retrieval pipeline allows the system to leverage the strength of diffrent appproaches by combining keyword-based search and dense vector  search for more accurate and diverse results.\n",
        "\n",
        " We use both `InMemoryEmbeddingRetriever` and `InMemoryBM25Retriever` to perform both dense and keyword-based retrieval"
      ],
      "metadata": {
        "id": "fvhhzqRJRhY9"
      }
    },
    {
      "cell_type": "markdown",
      "source": [
        "Steps Involved are\n",
        "1. Initializing the retriever and embedders i.e `InMemoryEmbeddingRetriever` and `InMemoryBM25Retriever`\n",
        "2. Joining the retrieval results from bm25_retriever and embedding retriever\n",
        "3. Rank the results relevancy to query using the `TransformersSimilarityRanker` that scores the relevancy of all retrieved documents for the given search query by using a cross encoder model `BAAI/bge-reranker-base model`\n",
        "4. Adding all initilized components to pipelin eand connnect them for the hybrid_retrieval pipeline\n",
        "5. Visualize the pipeline usind the `draw()` method."
      ],
      "metadata": {
        "id": "-WGvBPkPfJnP"
      }
    },
    {
      "cell_type": "code",
      "source": [
        "#Initializing the Retriever and embedder\n",
        "\n",
        "from haystack.components.retrievers.in_memory import InMemoryBM25Retriever, InMemoryEmbeddingRetriever\n",
        "from haystack.components.embedders import SentenceTransformersTextEmbedder\n",
        "\n",
        "\n",
        "text_embedder =  SentenceTransformersTextEmbedder(\n",
        "    model =\"BAAI/bge-small-en-v1.5\", device=ComponentDevice.from_str(\"cuda:0\")\n",
        ")\n",
        "\n",
        "embedding_retriever =InMemoryEmbeddingRetriever(document_store)\n",
        "bm25_retriever = InMemoryBM25Retriever(document_store)"
      ],
      "metadata": {
        "id": "Ev3QH9_SPiCd"
      },
      "execution_count": 8,
      "outputs": []
    },
    {
      "cell_type": "code",
      "source": [
        "#Join the Retrieval Results\n",
        "\n",
        "from haystack.components.joiners import  DocumentJoiner\n",
        "\n",
        "document_joiner = DocumentJoiner()"
      ],
      "metadata": {
        "id": "_aecL4hTTbfl"
      },
      "execution_count": 9,
      "outputs": []
    },
    {
      "cell_type": "code",
      "source": [
        "#Rank the results\n",
        "\n",
        "from haystack.components.rankers import TransformersSimilarityRanker\n",
        "\n",
        "ranker = TransformersSimilarityRanker(model = \"BAAI/bge-reranker-base\")"
      ],
      "metadata": {
        "id": "epanZtEEXVOl"
      },
      "execution_count": 10,
      "outputs": []
    },
    {
      "cell_type": "code",
      "source": [
        "# create retrieval pipeline by adding all components to the pipeline\n",
        "\n",
        "from haystack import Pipeline\n",
        "\n",
        "hybrid_retrieval = Pipeline()\n",
        "hybrid_retrieval.add_component(\"text_embedder\", text_embedder)\n",
        "hybrid_retrieval.add_component(\"embedding_retriever\", embedding_retriever)\n",
        "hybrid_retrieval.add_component(\"bm25_retriever\", bm25_retriever)\n",
        "hybrid_retrieval.add_component(\"document_joiner\", document_joiner)\n",
        "hybrid_retrieval.add_component(\"ranker\", ranker)\n",
        "\n",
        "\n",
        "hybrid_retrieval.connect(\"text_embedder\", \"embedding_retriever\")\n",
        "hybrid_retrieval.connect(\"bm25_retriever\", \"document_joiner\")\n",
        "hybrid_retrieval.connect(\"embedding_retriever\", \"document_joiner\")\n",
        "hybrid_retrieval.connect(\"document_joiner\", \"ranker\")"
      ],
      "metadata": {
        "colab": {
          "base_uri": "https://localhost:8080/"
        },
        "id": "ZRjLjEQPYTrN",
        "outputId": "14b63063-1827-4213-edbd-167aa3abb548"
      },
      "execution_count": 11,
      "outputs": [
        {
          "output_type": "execute_result",
          "data": {
            "text/plain": [
              "<haystack.core.pipeline.pipeline.Pipeline object at 0x7e2912b5b9a0>\n",
              "🚅 Components\n",
              "  - text_embedder: SentenceTransformersTextEmbedder\n",
              "  - embedding_retriever: InMemoryEmbeddingRetriever\n",
              "  - bm25_retriever: InMemoryBM25Retriever\n",
              "  - document_joiner: DocumentJoiner\n",
              "  - ranker: TransformersSimilarityRanker\n",
              "🛤️ Connections\n",
              "  - text_embedder.embedding -> embedding_retriever.query_embedding (List[float])\n",
              "  - embedding_retriever.documents -> document_joiner.documents (List[Document])\n",
              "  - bm25_retriever.documents -> document_joiner.documents (List[Document])\n",
              "  - document_joiner.documents -> ranker.documents (List[Document])"
            ]
          },
          "metadata": {},
          "execution_count": 11
        }
      ]
    },
    {
      "cell_type": "code",
      "source": [
        "#visualise the steps by saving the steps as an image\n",
        "hybrid_retrieval.draw(\"hybrid-retrieval.png\")\n"
      ],
      "metadata": {
        "id": "SQHNEiAucW-O"
      },
      "execution_count": 12,
      "outputs": []
    },
    {
      "cell_type": "markdown",
      "source": [
        "#### **Testing the Hybrid Retrieval Pipeline**\n",
        "This is done by passing the query to text_embedder, bm25_retriever and ranker and run the retrieval pipeline"
      ],
      "metadata": {
        "id": "aSuC9qerg-d1"
      }
    },
    {
      "cell_type": "code",
      "source": [
        "query = \"ADHD symptoms in children\"\n",
        "\n",
        "result = hybrid_retrieval.run(\n",
        "    {\"text_embedder\": {\"text\": query}, \"bm25_retriever\": {\"query\": query}, \"ranker\": {\"query\": query}}\n",
        ")"
      ],
      "metadata": {
        "colab": {
          "base_uri": "https://localhost:8080/",
          "height": 81,
          "referenced_widgets": [
            "8aac76507bfd4c74a9e904a278452206",
            "357268e266c74ff898c19ac53c6167ff",
            "e3d0e35ee7b94c6bb9986d0642fd85b7",
            "202aba5aa3064d979c1d91f217c0cdaf",
            "b37601e0ff024469b2affb1e249b5394",
            "467238101e0f4267bfadfb73fabc5487",
            "7550d86339ad444e8a4f7a6452b20b64",
            "5d6f75159f2a43cdb5c7e945cc1a3327",
            "83160db215f540fc8d035a8a715cbde6",
            "6b0eb453a3db486e825391014a218250",
            "c47866eea9114cc8b80570483ca2ddcb",
            "743edeafbbdc4844a5d6a9c65bd6739d",
            "96f94754be8b434f83376a9f00c4ce95",
            "35b516873cc64eb1837289a1f4499414",
            "694b861937ee4a058514d6cf2c96cf66",
            "202103ca8946406f835a5028b73ef636",
            "d5002602c19a46c2ad1a563d38168a60",
            "1c28426691a94e63a48b157801c5aaef",
            "c304b2d2d57f4752b88da63fb3466a30",
            "e89fe4414e0345ec9831962b56db5821",
            "247149c896f747cdb608d2ead067a62e",
            "a8c37e0550514c619394ba50e961895f"
          ]
        },
        "id": "nlSbpoGPdcaG",
        "outputId": "755f082f-670c-41b3-b796-0ee97dee7e59"
      },
      "execution_count": 13,
      "outputs": [
        {
          "output_type": "display_data",
          "data": {
            "text/plain": [
              "Batches:   0%|          | 0/1 [00:00<?, ?it/s]"
            ],
            "application/vnd.jupyter.widget-view+json": {
              "version_major": 2,
              "version_minor": 0,
              "model_id": "8aac76507bfd4c74a9e904a278452206"
            }
          },
          "metadata": {}
        },
        {
          "output_type": "display_data",
          "data": {
            "text/plain": [
              "Ranking by BM25...:   0%|          | 0/15380 [00:00<?, ? docs/s]"
            ],
            "application/vnd.jupyter.widget-view+json": {
              "version_major": 2,
              "version_minor": 0,
              "model_id": "743edeafbbdc4844a5d6a9c65bd6739d"
            }
          },
          "metadata": {}
        }
      ]
    },
    {
      "cell_type": "code",
      "source": [
        "#function to print results as a kind of search page\n",
        "#This prints the results with their respective ranking based on relevancy to the query\n",
        "def pretty_print_results(prediction):\n",
        "    for doc in prediction[\"documents\"]:\n",
        "        print(doc.meta[\"title\"], \"\\t\", doc.score)\n",
        "        print(doc.meta[\"abstract\"])\n",
        "        print(\"\\n\", \"\\n\")\n",
        "pretty_print_results(result[\"ranker\"])\n"
      ],
      "metadata": {
        "colab": {
          "base_uri": "https://localhost:8080/"
        },
        "id": "bEguYzWHdhFe",
        "outputId": "c7358c69-c682-4a15-a72e-f97db150a70a"
      },
      "execution_count": 14,
      "outputs": [
        {
          "output_type": "stream",
          "name": "stdout",
          "text": [
            "Medication for hyperkinetic children. \t 0.9761005640029907\n",
            "The hyperkinetic syndrome is a symptom complex of hyperactivity, short attention span, distractibility, impulsivity, learning difficulties, other behaviour problems and 'equivocal' neurological signs. However, none of these terms has ever been objectively defined and at present diagnosis is largely a matter of clinical judgement. In the management of the disorder, drugs do have a place but the decision to use medication is a complex procedure diagnostically and therapeutically calling for the highest in clinical skill and medical supervision. The most useful medication at present is the stimulant group of drugs, particularly dextroamphetamine and methylphenidate. Antipsychotic drugs are sometimes useful but carry the risk of depressing higher CNS functions such as attention and cognition. Other drugs which have been shown to be of value include tricyclic antidepressants (although their effect is less predictable and less striking than that of the stimulants) and pemoline.\n",
            "\n",
            " \n",
            "\n",
            "Otitis media in children less than 12 weeks of age. \t 0.7838222980499268\n",
            "Cases of otitis media in infants under 12 weeks of age were reviewed to delineate the frequency, clinical features, and etiologic agents involved. Tympanocentesis was performed in 42 infants, 0 to 5 weeks of age, and in 17, from 6 to 11 weeks of age. The most common symptoms were irritability/lethargy (69%), fever (52%), cough (36%), vomiting (21%), diarrhea (20%), tachypnea (20%), and anorexia (18%). Associated illnesses were present in 33 (54%) of the patients, the most common being pneumonia (9), bronchiolitis (7), meningitis (6), conjunctivitis (4), and omphalitis (4). No peripartum infections or severe perinatal problems were found. Common respiratory pathogens were the predominant etiologic organisms, but coliform organisms were identified in 18% of the infants under 6 weeks of age. Cultures were sterile or grew organisms of questionable pathogenicity (\"nonpathogens\") in 39% of specimens. Since the signs and symptoms of otitis media in children less than 12 weeks of age are nonspecific and frequently associated with other major illnesses, the physician caring for these infants needs to be more aware of this disease and the therapeutic problems it presents.\n",
            "\n",
            " \n",
            "\n",
            "[Recurrent periarteritis nodosa with predominantly cerebral signs in children (author's transl)]. \t 0.7467727661132812\n",
            "Periarteritis nodosa occurs also in children and has the same wide spectrum of signs and symptoms as in adults. In a 4 1/2 year-old girl the disease at first was characterised by cerebral, encephalitis-like symptoms, arterial hypertension, intestinal wall necrosis and, finally, pericardial tamponade as a result of rupture of an arteritic coronary artery aneurysm. An earlier attack had involved liver and skeletal muscle, with necrosis in the liver. Peculiar morphological features within the \"classical\" course of periarteritis nodosa are endarteritic changes of single retroperitoneal and coronary arteries.\n",
            "\n",
            " \n",
            "\n",
            "Local injuries by accidental ingestion of corrosive substances by children. \t 0.7192872762680054\n",
            "Own data and analysis of previous publications show that situations where accidental ingestion of corrosive substances by children may have happened are frequent, but severe corrosive esophagitis leading to perforation or stricture formation is very rare. In case of suspected esophageal injury, esophagoscopy and glucocorticoid treatment become necessary. The evaluation of the initial symptoms in patients from our own material and from the literature indicates that all children with serious esophageal burns had one or more of the following symptoms: visible burns in the oral cavity, hypersalivation, retching, vomiting, retrosternal or epigastric pain, cardiovascular collaps, airway stenosis. Hence, children with an uncertain history of ingestion and without any of these symptoms need not be treated. After ingestion of liquid substances, but never of dry or granular products, lesions in the esophagus without accompanying burns in the oral cavity were observed. The evaluation of 1158 cases of accidental ingestions of several types of household products and a collection of data from the literature on the causticity of these substances shows that cleaners containing mainly detergents and phosphates (with pH values generally between 9 and 11), and household bleaches on sodium hypochlorite basis, are relatively harmless. Drain cleaners (NaOH), decalcifiers (formic acid) and detergents for automatic dish washing machines (metasilicates) are very caustic and are responsible for the majority of serious accidents in children.\n",
            "\n",
            " \n",
            "\n",
            "[Epileptic headaches (author's transl)]. \t 0.6341819763183594\n",
            "The author describes three observations characterized by the following similar features: 1. Children, between 2 and 9 years, suffering from attacks of sterotyped headaches. 2. EEG with bursts of high- voltage paroxysmal discharges, mainly during hyperventilation. 3. Efficiency of antiepileptic drugs contrary to antimigrainous treatment. These headaches are considered by the author as \"epileptic\", and this diagnosis is discussed.\n",
            "\n",
            " \n",
            "\n",
            "Proxemics, locus of control, anxiety, and type of movement in emotionally disturbed and normal boys. \t 0.4960736334323883\n",
            "In order to determine the interpersonal distancing requirements for emotionally disturbed and normal children and in order to investigate the relationship of locus of control and anxiety to interpersonal space, 20 emotionally disturbed and 20 normal boys were randomly required to approach an object person and to let the object person approach them until they felt uncomfortable. Results indicated that emotionally disturbed boys required more space than normals; that subjects would approach closer than they would allow the object person to approach them; and that externals required more space than internals. There were no significant differences between high and low anxious subjects, nor between emotionally disturbed children diagnostically classified as overanxious reaction and those with other diagnosis. Finally, neither anxiety nor locus of control explained the significant normal-emotionally disturbed differences in space requirements. Theoretical and practical implications were discussed as well as the relationship between the present and previous research.\n",
            "\n",
            " \n",
            "\n",
            "[Cerebral palsy--early diagnosis and treatment (author's transl)]. \t 0.4755650460720062\n",
            "The main aim of the present Conference has been to debate that early diagnosis and treatment of cerebral palsy. The Conference was attended by specialists taking care of the child with cerebral palsy (C.P.): child neurologists, surgeons--orthopedists, psychologists, rehabilitants, pediatricians. In connection with the fact that the Conference was devoted to the early diagnosis and therapy of C.P., problems concerning the lower age groups of children were debated. The Conference discussed the definitions of \"cerebral palsy\" used in the literature, the clinical forms, the auxiliary diagnostic methods and their significance in the diagnosing of this pathological syndrome. Early clinical symptoms, enabling to establish the diagnosis of cerebral palsy were particularly extensively debated. In the latter problem particular attention was paid to the diagnostic value of kinetic automatisms of the group of tonic posture reflexes and dysfunctions of the kinetic pattern in children. It was underlined in the debate the C.P. was no separate clinical disease, but a pathological syndrome arisen as a result of the negative influence of different factors and yielding very diverse clinical and neurolopathologic symptoms, according to the kind of noxious factors and the period and degree of maturity of the nervous system in which they acted. The participants in the debate also sressed that, as the child develops and is observed for a longer period it is fairly often necessary to check this diagnosis, as C.P. may prove, as the time passes, to be a degenerative syndrome, a pressure syndrome etc. The psychologists participating in the Conference discussed the psychological problems of the child with C.P. and also the early diagnosis of the pathological syndrome debated. The diversity of the symptoms of the C.N.S. in children suffering from C.P. was underscored, as--apart from dysfunctions within the kinetic area, there can be present sight, hearing and speech dysfunctions, those of sensory perceptions and mental development. These children require multispecialist care, as everyone of dysfunctions mentioned may present a complicated diagnostic problem. Plenty of place was devoted to the discussion of problems connected with epilepsy in children with C.P. Also extensively debated were the general principles of the medical procedure in children with C.P. As a result of the discussion it was decided that children with severer forms of C.P. and those from poor social conditions should be subjected to long-lasting sanatorium rehabilitation. Keeping the child in its family environment should, however, be the generally adopted principle of the rehabilitation of a little child. The parents of the child should be trained in the proper rearing of the child under household conditions, a manner to secure all the needs resulting from the then stage of its development. In connection with this problem the project of the programme of sensoric-and-kinetic rehabilitation was debated, as presented by psychologists and rehabilitants (kinesitherapeuts).\n",
            "\n",
            " \n",
            "\n",
            "Auditory word discrimination in male children diagnosed as having minimal brain dysfunction. \t 0.46312054991722107\n",
            "Investigated auditory word discrimination skill in children diagnosed as having minimal brain dysfunction (MBD), a heretofore unexplored topic in the study of MBD. A lack of auditory discrimination skill seems relevant to learning deficiency in language acquisition, a typical sign of MBD. The present study tested the hypothesis that phonemic aural discriminations would be difficult to make for boys diagnosed as having MBD. Errors and nonresponses made while Ss performed an extended auditory word discrimination task were compared between a group of 26 boys diagnosed as having MBD and a matched normal group. As expected, the MBD group had a significantly higher error rate than the normal group even when Ss were discriminating easy word pairs composed of dissimilar items (e.g., reading, math). These and other results suggested that the MBD group was very susceptible to fatigue even while motivated to perform well and while able to improve with practice. The relatively inferior performance of the MBD group was interpreted as resulting directly from a lack of auditory discrimination skill and indirectly from fatigue and its accompanying attention loss.\n",
            "\n",
            " \n",
            "\n",
            "[Juvenile rheumatoid arthritis and related collagen diseases. Clinical aspects (author's transl)]. \t 0.448996365070343\n",
            "Juvenile rheumatoid arthritis or, more correctly, juvenile chronic polyarthritis with its many clinical manifestations can be separated into the Still-syndrome with acute beginning, high fever and a high percentage of extra-articulalar, i.e. visceral symptoms, and the chronic polyarthritis in the more strict sense with non-visceral symptoms. The subsepsis allergica should be regarded as a subseptic first stage of the Still syndrome. The Still-syndrome implies a systemic disease mainly of the reticulo-endothelial system, with carditis, nephropathy, recurrent erythemas, and a progressing polyarthritis. Later symptoms are amyloidosis, chronic nephritis, myo- and pericarditis, and artheriitis necroticans. Predominanly the involvement of the kidneys is the reasons for the high mortality rate of 13%. Chronic polyarthritis in the strict sense is similar in children and adults, though in children rheumatic factors are rarely detected. The exsudative form of arthritis tends to cause early deterioration. Joint symptoms are distributed asymmetrically and show locally inflammed growth otherwise less common in Still-syndrome. Spondylitis cervicalis rapidly causes ankylosis. Atlanto-axial-arthritis with consequent atlanto-axial dislocation can be the reason for neurological disturbances. Juvenile mono- or oligo-arthritis often turns into polyarthritis; but for joints the prognosis is more favourable. In contrast, rheumatoid iridocyclitis as found in 22% of the cases causes unfavourable complications because symptoms are not noticed in time so that treatment is often too late. Juvenile spondylitis ankylosans begins with a peripheral arthritic stage which is not easily distinguished from chronic polyarthritis. The male sex, mono- or oligoarthritis of the outer extremities, pain in the heel, atlanto-axial-arthritis, iridocyclitis, and a positive HLA of 27 give a diagnostic clue. -- Characteristics of the therapy will be discussed.\n",
            "\n",
            " \n",
            "\n",
            "Signs, symptoms, and pathophysiology of Pneumocystis carinii pneumonitis. \t 0.3066135048866272\n",
            "In 80 patients with Pneumocystis pneumonitis, the intial signs and symptoms of infection were usually fever and cough, followed by tachypnea and coryza. Flaring of the nasal alae and cyanosis occurred later. Blood gas composition was markedly altered in its acid-base profile in most patients at admission. There was moderate to severe respiratory alkalosis and hypoxia. Clinical manifestations were correlated with the extent of histopathologic changes in the lung. (Deprivation of protein in the diet of rats provoked P. carinii infection.) P. carinii infection was found in children with kwashiorkor; evidence of protein-calorie malnutrition is closely associated with P. carinii pneumonitis in children wiht cancer and other primary diseases. P. carinii pneumonitis proved unique in that the causative organisms remained limited to the lungs even in fatal cases. No toxins have been identified, and systemic effects of the infection were only those that could be related to hypoxia and fever.\n",
            "\n",
            " \n",
            "\n"
          ]
        }
      ]
    }
  ]
}