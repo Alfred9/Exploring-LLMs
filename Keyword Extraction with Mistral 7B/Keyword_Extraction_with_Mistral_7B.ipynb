{
  "cells": [
    {
      "cell_type": "markdown",
      "metadata": {
        "id": "view-in-github",
        "colab_type": "text"
      },
      "source": [
        "<a href=\"https://colab.research.google.com/github/Alfred9/Exploring-LLMs/blob/main/Keyword%20Extraction%20with%20Mistral%207B/Keyword_Extraction_with_Mistral_7B.ipynb\" target=\"_parent\"><img src=\"https://colab.research.google.com/assets/colab-badge.svg\" alt=\"Open In Colab\"/></a>"
      ]
    },
    {
      "cell_type": "markdown",
      "metadata": {
        "id": "xHJUBPlcX789"
      },
      "source": [
        "# **Keyword Extraction with Mistral 7B**\n",
        "\n",
        "\n"
      ]
    },
    {
      "cell_type": "markdown",
      "metadata": {
        "id": "4mQjwWu4XzgG"
      },
      "source": [
        "\n",
        " Keyword extraction is a fundamental task in natural language processing (NLP) that plays a crucial role in understanding and analyzing textual data efficiently. By identifying and extracting the most relevant terms from text, we can streamline information retrieval, summarization, and categorization processes. In this notebook, we will delve into keyword extraction techniques, with a focus on leveraging the Mistral 7B model."
      ]
    },
    {
      "cell_type": "markdown",
      "metadata": {
        "id": "bJe5rT-ChHWe"
      },
      "source": [
        "Let's start by installing a number of packages that we are going to use throughout this example:"
      ]
    },
    {
      "cell_type": "code",
      "source": [
        "%%capture\n",
        "!pip install --upgrade git+https://github.com/UKPLab/sentence-transformers\n",
        "!pip install keybert ctransformers[cuda]\n",
        "!pip install --upgrade git+https://github.com/huggingface/transformers"
      ],
      "metadata": {
        "id": "-e49bYW241gI"
      },
      "execution_count": 1,
      "outputs": []
    },
    {
      "cell_type": "code",
      "source": [
        "from ctransformers import AutoModelForCausalLM\n",
        "\n",
        "# Set gpu_layers to the number of layers to offload to GPU. Set to 0 if no GPU acceleration is available on your system.\n",
        "model = AutoModelForCausalLM.from_pretrained(\n",
        "    \"TheBloke/Mistral-7B-Instruct-v0.1-GGUF\",\n",
        "    model_file=\"mistral-7b-instruct-v0.1.Q4_K_M.gguf\",\n",
        "    model_type=\"mistral\",\n",
        "    gpu_layers=50,\n",
        "    hf=True\n",
        ")"
      ],
      "metadata": {
        "colab": {
          "base_uri": "https://localhost:8080/",
          "height": 81,
          "referenced_widgets": [
            "99fa295247174324ad3d4a3249a603a5",
            "5f722353cf0c48e3ae5d307327f82025",
            "ffd8a221c4d24880aaddb0166b010553",
            "84ca0b0323cb462082140fcf7beb2962",
            "0750cc67b878495ebb9304a2d93e0459",
            "c1ddcb7e77d340f7885a541d6b1489d4",
            "362df54a8b59434baf2f3ab8110ea1a4",
            "77bf47e4a19740e280528acba4b5c491",
            "e593cb2fe4854188834fce5a3e278f89",
            "5571afb9bebc4d09be0e72256426c193",
            "d158cf45971d469e83deb64cb004ffdf",
            "0717f5ef4f9f458d9d8b32373fa29446",
            "018441cea4814c8faccc38e1f2a4949e",
            "5b73355abd5a484c987997e7085cb9df",
            "824e9d5e20c549d68776289b6c4ef28e",
            "80ecdbfd469048a586c8709704d5caa2",
            "b2b27ca928394057a41e5668eeebe9de",
            "ab35de36325844c199144aca7b70f559",
            "02e517b6578949cd8b1ec39133859870",
            "83ba006a7c074a9c9ecd6869a4c3858d",
            "60ed1b2dd679446aabd5a3c4a09c103d",
            "a8515f3c643241cea982aa744e6cf024"
          ]
        },
        "id": "EnGxC3El6QSq",
        "outputId": "75d69fae-fce6-41b5-968c-3d8ca01eef7f"
      },
      "execution_count": 2,
      "outputs": [
        {
          "output_type": "display_data",
          "data": {
            "text/plain": [
              "Fetching 1 files:   0%|          | 0/1 [00:00<?, ?it/s]"
            ],
            "application/vnd.jupyter.widget-view+json": {
              "version_major": 2,
              "version_minor": 0,
              "model_id": "99fa295247174324ad3d4a3249a603a5"
            }
          },
          "metadata": {}
        },
        {
          "output_type": "display_data",
          "data": {
            "text/plain": [
              "Fetching 1 files:   0%|          | 0/1 [00:00<?, ?it/s]"
            ],
            "application/vnd.jupyter.widget-view+json": {
              "version_major": 2,
              "version_minor": 0,
              "model_id": "0717f5ef4f9f458d9d8b32373fa29446"
            }
          },
          "metadata": {}
        }
      ]
    },
    {
      "cell_type": "markdown",
      "source": [
        "\n",
        "Now, let's proceed with setting up a huggingface Transformers pipeline."
      ],
      "metadata": {
        "id": "nPn5wuu3BbJ5"
      }
    },
    {
      "cell_type": "code",
      "source": [
        "from transformers import AutoTokenizer, pipeline\n",
        "\n",
        "# Tokenizer\n",
        "tokenizer = AutoTokenizer.from_pretrained(\"mistralai/Mistral-7B-Instruct-v0.1\")\n",
        "\n",
        "# Pipeline\n",
        "generator = pipeline(\n",
        "    model=model, tokenizer=tokenizer,\n",
        "    task='text-generation',\n",
        "    max_new_tokens=50,\n",
        "    repetition_penalty=1.1\n",
        ")"
      ],
      "metadata": {
        "id": "mZRPR0ecBKDq"
      },
      "execution_count": 3,
      "outputs": []
    },
    {
      "cell_type": "markdown",
      "metadata": {
        "id": "iAxVj9cGYWX1"
      },
      "source": [
        "# 📄 **Prompt Engineering**\n"
      ]
    },
    {
      "cell_type": "markdown",
      "source": [
        "Let's see if this works with a very basic example:"
      ],
      "metadata": {
        "id": "7a3Uy7MSCFC8"
      }
    },
    {
      "cell_type": "code",
      "source": [
        "response = generator(\"List 5 interesting facts about Spain?\")\n",
        "print(response[0][\"generated_text\"])"
      ],
      "metadata": {
        "colab": {
          "base_uri": "https://localhost:8080/"
        },
        "id": "ayxmrmatCJc7",
        "outputId": "4f9076e6-11f8-4ef4-ff74-05968379ff1b"
      },
      "execution_count": 4,
      "outputs": [
        {
          "output_type": "stream",
          "name": "stdout",
          "text": [
            "List 5 interesting facts about Spain?\n",
            "\n",
            "1. Spain is the fourth most populous country in Europe, with a population of over 46 million people.\n",
            "2. The official language of Spain is Spanish, also known as Castilian. However, there are several regional\n"
          ]
        }
      ]
    },
    {
      "cell_type": "markdown",
      "source": [
        "Perfect! It can handle a very basic question. For the purpose of keyword extraction, let's explore whether it can handle a bit more complexity."
      ],
      "metadata": {
        "id": "kqQKo-udCGtz"
      }
    },
    {
      "cell_type": "code",
      "source": [
        "prompt = \"\"\"\n",
        "I have the following document:\n",
        "* Successful immunotherapy relies on triggering complex responses involving T cell dynamics in tumors and the periphery. Characterizing these responses remains challenging using static human single-cell atlases or mouse models.\n",
        "\n",
        "Extract 5 keywords from that document.\n",
        "\"\"\"\n",
        "response = generator(prompt)\n",
        "print(response[0][\"generated_text\"])"
      ],
      "metadata": {
        "colab": {
          "base_uri": "https://localhost:8080/"
        },
        "id": "aswwya86CLdA",
        "outputId": "a17d90f6-3e23-486b-b5ab-b86669ab986c"
      },
      "execution_count": 5,
      "outputs": [
        {
          "output_type": "stream",
          "name": "stdout",
          "text": [
            "\n",
            "I have the following document:\n",
            "* Successful immunotherapy relies on triggering complex responses involving T cell dynamics in tumors and the periphery. Characterizing these responses remains challenging using static human single-cell atlases or mouse models.\n",
            "\n",
            "Extract 5 keywords from that document.\n",
            "\n",
            "**Answer:**\n",
            "1. Immunotherapy\n",
            "2. T cells\n",
            "3. Dynamics\n",
            "4. Triggering\n",
            "5. Responses\n"
          ]
        }
      ]
    },
    {
      "cell_type": "code",
      "source": [
        "example_prompt = \"\"\"\n",
        "<s>[INST]\n",
        "I have the following document:\n",
        "- Successful immunotherapy relies on triggering complex responses involving T cell dynamics in tumors and the periphery. Characterizing these responses remains challenging using static human single-cell atlases or mouse models..\n",
        "\n",
        "Please give me the keywords that are present in this document and separate them with commas.\n",
        "Make sure you to only return the keywords and say nothing else. For example, don't say:\n",
        "\"Here are the keywords present in the document\"\n",
        "[/INST] meat, beef, eat, eating, emissions, steak, food, health, processed, chicken</s>\"\"\""
      ],
      "metadata": {
        "id": "8cLP8HXwDObB"
      },
      "execution_count": 6,
      "outputs": []
    },
    {
      "cell_type": "code",
      "source": [
        "keyword_prompt = \"\"\"\n",
        "[INST]\n",
        "\n",
        "I have the following document:\n",
        "- [DOCUMENT]\n",
        "\n",
        "Please give me the keywords that are present in this document and separate them with commas.\n",
        "Make sure you to only return the keywords and say nothing else. For example, don't say:\n",
        "\"Here are the keywords present in the document\"\n",
        "[/INST]\n",
        "\"\"\""
      ],
      "metadata": {
        "id": "I9rAHa2mH0HZ"
      },
      "execution_count": 7,
      "outputs": []
    },
    {
      "cell_type": "code",
      "source": [
        "prompt = example_prompt + keyword_prompt\n",
        "print(prompt)"
      ],
      "metadata": {
        "colab": {
          "base_uri": "https://localhost:8080/"
        },
        "id": "HcgnkBBtH0y2",
        "outputId": "fc3c4fd6-f816-4ee3-bdea-d333ebc82c27"
      },
      "execution_count": 8,
      "outputs": [
        {
          "output_type": "stream",
          "name": "stdout",
          "text": [
            "\n",
            "<s>[INST]\n",
            "I have the following document:\n",
            "- Successful immunotherapy relies on triggering complex responses involving T cell dynamics in tumors and the periphery. Characterizing these responses remains challenging using static human single-cell atlases or mouse models..\n",
            "\n",
            "Please give me the keywords that are present in this document and separate them with commas.\n",
            "Make sure you to only return the keywords and say nothing else. For example, don't say:\n",
            "\"Here are the keywords present in the document\"\n",
            "[/INST] meat, beef, eat, eating, emissions, steak, food, health, processed, chicken</s>\n",
            "[INST]\n",
            "\n",
            "I have the following document:\n",
            "- [DOCUMENT]\n",
            "\n",
            "Please give me the keywords that are present in this document and separate them with commas.\n",
            "Make sure you to only return the keywords and say nothing else. For example, don't say:\n",
            "\"Here are the keywords present in the document\"\n",
            "[/INST]\n",
            "\n"
          ]
        }
      ]
    },
    {
      "cell_type": "code",
      "source": [
        "from keybert.llm import TextGeneration\n",
        "from keybert import KeyLLM\n",
        "\n",
        "# Load it in KeyLLM\n",
        "llm = TextGeneration(generator, prompt=prompt)\n",
        "kw_model = KeyLLM(llm)"
      ],
      "metadata": {
        "id": "RoVCl3PK-ZY8"
      },
      "execution_count": 9,
      "outputs": []
    },
    {
      "cell_type": "code",
      "source": [
        "documents = [\n",
        "\"Successful immunotherapy relies on triggering complex responses involving T cell dynamics in tumors and the periphery. Characterizing these responses remains challenging using static human single-cell atlases or mouse models.\"\n",
        "]\n",
        "\n",
        "keywords = kw_model.extract_keywords(documents); keywords"
      ],
      "metadata": {
        "colab": {
          "base_uri": "https://localhost:8080/"
        },
        "id": "eKOiOPl3-X8w",
        "outputId": "b381cf60-6c06-4f7d-a81b-2c8438406fe1"
      },
      "execution_count": 10,
      "outputs": [
        {
          "output_type": "execute_result",
          "data": {
            "text/plain": [
              "[['Successful',\n",
              "  'Immunotherapy',\n",
              "  'Triggering',\n",
              "  'Complex',\n",
              "  'Responses',\n",
              "  'T cell',\n",
              "  'Dynamics',\n",
              "  'Tumors',\n",
              "  'Periphery',\n",
              "  'Characterizing',\n",
              "  'Static',\n",
              "  'Human',\n",
              "  'Single-cell',\n",
              "  'Atlases',\n",
              "  'Mouse',\n",
              "  'Models']]"
            ]
          },
          "metadata": {},
          "execution_count": 10
        }
      ]
    },
    {
      "cell_type": "code",
      "source": [
        "from keybert import KeyLLM\n",
        "from sentence_transformers import SentenceTransformer\n",
        "\n",
        "# Extract embeddings\n",
        "model = SentenceTransformer('BAAI/bge-small-en-v1.5')\n",
        "embeddings = model.encode(documents, convert_to_tensor=True)"
      ],
      "metadata": {
        "id": "fegT5SbsdM_3"
      },
      "execution_count": 11,
      "outputs": []
    },
    {
      "cell_type": "code",
      "source": [
        "# Load it in KeyLLM\n",
        "kw_model = KeyLLM(llm)\n",
        "\n",
        "# Extract keywords\n",
        "keywords = kw_model.extract_keywords(documents, embeddings=embeddings, threshold=.5)"
      ],
      "metadata": {
        "id": "xfgfP_wNJQDG"
      },
      "execution_count": 12,
      "outputs": []
    },
    {
      "cell_type": "code",
      "source": [
        "keywords"
      ],
      "metadata": {
        "colab": {
          "base_uri": "https://localhost:8080/"
        },
        "id": "PH6IrvcEKErJ",
        "outputId": "c4b5338e-86b3-4923-af09-7f836a7258c8"
      },
      "execution_count": 13,
      "outputs": [
        {
          "output_type": "execute_result",
          "data": {
            "text/plain": [
              "[['Successful',\n",
              "  'Immunotherapy',\n",
              "  'Triggering',\n",
              "  'Complex',\n",
              "  'Responses',\n",
              "  'T cell',\n",
              "  'Dynamics',\n",
              "  'Tumors',\n",
              "  'Periphery',\n",
              "  'Characterizing',\n",
              "  'Static',\n",
              "  'Human',\n",
              "  'Single-cell',\n",
              "  'Atlases',\n",
              "  'Mouse',\n",
              "  'Models']]"
            ]
          },
          "metadata": {},
          "execution_count": 13
        }
      ]
    },
    {
      "cell_type": "code",
      "source": [
        "from keybert import KeyLLM, KeyBERT\n",
        "\n",
        "# Load it in KeyLLM\n",
        "kw_model = KeyBERT(llm=llm, model='BAAI/bge-small-en-v1.5')\n",
        "\n",
        "# Extract keywords\n",
        "keywords = kw_model.extract_keywords(documents, threshold=.5)"
      ],
      "metadata": {
        "id": "Er48gf7HdOnW"
      },
      "execution_count": 14,
      "outputs": []
    },
    {
      "cell_type": "code",
      "source": [
        "keywords"
      ],
      "metadata": {
        "colab": {
          "base_uri": "https://localhost:8080/"
        },
        "id": "sf6tvcvQD9Ds",
        "outputId": "6760b3a7-fc09-4598-d8aa-4b50c7bb07dc"
      },
      "execution_count": 15,
      "outputs": [
        {
          "output_type": "execute_result",
          "data": {
            "text/plain": [
              "[['Successful',\n",
              "  'Immunotherapy',\n",
              "  'Triggering',\n",
              "  'Complex',\n",
              "  'Responses',\n",
              "  'T cell',\n",
              "  'Dynamics',\n",
              "  'Tumors',\n",
              "  'Periphery',\n",
              "  'Characterizing',\n",
              "  'Static',\n",
              "  'Human',\n",
              "  'Single-cell',\n",
              "  'Atlases',\n",
              "  'Mouse',\n",
              "  'Models']]"
            ]
          },
          "metadata": {},
          "execution_count": 15
        }
      ]
    }
  ],
  "metadata": {
    "accelerator": "GPU",
    "colab": {
      "provenance": [],
      "gpuType": "T4",
      "include_colab_link": true
    },
    "kernelspec": {
      "display_name": "Python 3",
      "name": "python3"
    },
    "language_info": {
      "name": "python"
    },
    "widgets": {
      "application/vnd.jupyter.widget-state+json": {
        "99fa295247174324ad3d4a3249a603a5": {
          "model_module": "@jupyter-widgets/controls",
          "model_name": "HBoxModel",
          "model_module_version": "1.5.0",
          "state": {
            "_dom_classes": [],
            "_model_module": "@jupyter-widgets/controls",
            "_model_module_version": "1.5.0",
            "_model_name": "HBoxModel",
            "_view_count": null,
            "_view_module": "@jupyter-widgets/controls",
            "_view_module_version": "1.5.0",
            "_view_name": "HBoxView",
            "box_style": "",
            "children": [
              "IPY_MODEL_5f722353cf0c48e3ae5d307327f82025",
              "IPY_MODEL_ffd8a221c4d24880aaddb0166b010553",
              "IPY_MODEL_84ca0b0323cb462082140fcf7beb2962"
            ],
            "layout": "IPY_MODEL_0750cc67b878495ebb9304a2d93e0459"
          }
        },
        "5f722353cf0c48e3ae5d307327f82025": {
          "model_module": "@jupyter-widgets/controls",
          "model_name": "HTMLModel",
          "model_module_version": "1.5.0",
          "state": {
            "_dom_classes": [],
            "_model_module": "@jupyter-widgets/controls",
            "_model_module_version": "1.5.0",
            "_model_name": "HTMLModel",
            "_view_count": null,
            "_view_module": "@jupyter-widgets/controls",
            "_view_module_version": "1.5.0",
            "_view_name": "HTMLView",
            "description": "",
            "description_tooltip": null,
            "layout": "IPY_MODEL_c1ddcb7e77d340f7885a541d6b1489d4",
            "placeholder": "​",
            "style": "IPY_MODEL_362df54a8b59434baf2f3ab8110ea1a4",
            "value": "Fetching 1 files: 100%"
          }
        },
        "ffd8a221c4d24880aaddb0166b010553": {
          "model_module": "@jupyter-widgets/controls",
          "model_name": "FloatProgressModel",
          "model_module_version": "1.5.0",
          "state": {
            "_dom_classes": [],
            "_model_module": "@jupyter-widgets/controls",
            "_model_module_version": "1.5.0",
            "_model_name": "FloatProgressModel",
            "_view_count": null,
            "_view_module": "@jupyter-widgets/controls",
            "_view_module_version": "1.5.0",
            "_view_name": "ProgressView",
            "bar_style": "success",
            "description": "",
            "description_tooltip": null,
            "layout": "IPY_MODEL_77bf47e4a19740e280528acba4b5c491",
            "max": 1,
            "min": 0,
            "orientation": "horizontal",
            "style": "IPY_MODEL_e593cb2fe4854188834fce5a3e278f89",
            "value": 1
          }
        },
        "84ca0b0323cb462082140fcf7beb2962": {
          "model_module": "@jupyter-widgets/controls",
          "model_name": "HTMLModel",
          "model_module_version": "1.5.0",
          "state": {
            "_dom_classes": [],
            "_model_module": "@jupyter-widgets/controls",
            "_model_module_version": "1.5.0",
            "_model_name": "HTMLModel",
            "_view_count": null,
            "_view_module": "@jupyter-widgets/controls",
            "_view_module_version": "1.5.0",
            "_view_name": "HTMLView",
            "description": "",
            "description_tooltip": null,
            "layout": "IPY_MODEL_5571afb9bebc4d09be0e72256426c193",
            "placeholder": "​",
            "style": "IPY_MODEL_d158cf45971d469e83deb64cb004ffdf",
            "value": " 1/1 [00:00&lt;00:00, 66.58it/s]"
          }
        },
        "0750cc67b878495ebb9304a2d93e0459": {
          "model_module": "@jupyter-widgets/base",
          "model_name": "LayoutModel",
          "model_module_version": "1.2.0",
          "state": {
            "_model_module": "@jupyter-widgets/base",
            "_model_module_version": "1.2.0",
            "_model_name": "LayoutModel",
            "_view_count": null,
            "_view_module": "@jupyter-widgets/base",
            "_view_module_version": "1.2.0",
            "_view_name": "LayoutView",
            "align_content": null,
            "align_items": null,
            "align_self": null,
            "border": null,
            "bottom": null,
            "display": null,
            "flex": null,
            "flex_flow": null,
            "grid_area": null,
            "grid_auto_columns": null,
            "grid_auto_flow": null,
            "grid_auto_rows": null,
            "grid_column": null,
            "grid_gap": null,
            "grid_row": null,
            "grid_template_areas": null,
            "grid_template_columns": null,
            "grid_template_rows": null,
            "height": null,
            "justify_content": null,
            "justify_items": null,
            "left": null,
            "margin": null,
            "max_height": null,
            "max_width": null,
            "min_height": null,
            "min_width": null,
            "object_fit": null,
            "object_position": null,
            "order": null,
            "overflow": null,
            "overflow_x": null,
            "overflow_y": null,
            "padding": null,
            "right": null,
            "top": null,
            "visibility": null,
            "width": null
          }
        },
        "c1ddcb7e77d340f7885a541d6b1489d4": {
          "model_module": "@jupyter-widgets/base",
          "model_name": "LayoutModel",
          "model_module_version": "1.2.0",
          "state": {
            "_model_module": "@jupyter-widgets/base",
            "_model_module_version": "1.2.0",
            "_model_name": "LayoutModel",
            "_view_count": null,
            "_view_module": "@jupyter-widgets/base",
            "_view_module_version": "1.2.0",
            "_view_name": "LayoutView",
            "align_content": null,
            "align_items": null,
            "align_self": null,
            "border": null,
            "bottom": null,
            "display": null,
            "flex": null,
            "flex_flow": null,
            "grid_area": null,
            "grid_auto_columns": null,
            "grid_auto_flow": null,
            "grid_auto_rows": null,
            "grid_column": null,
            "grid_gap": null,
            "grid_row": null,
            "grid_template_areas": null,
            "grid_template_columns": null,
            "grid_template_rows": null,
            "height": null,
            "justify_content": null,
            "justify_items": null,
            "left": null,
            "margin": null,
            "max_height": null,
            "max_width": null,
            "min_height": null,
            "min_width": null,
            "object_fit": null,
            "object_position": null,
            "order": null,
            "overflow": null,
            "overflow_x": null,
            "overflow_y": null,
            "padding": null,
            "right": null,
            "top": null,
            "visibility": null,
            "width": null
          }
        },
        "362df54a8b59434baf2f3ab8110ea1a4": {
          "model_module": "@jupyter-widgets/controls",
          "model_name": "DescriptionStyleModel",
          "model_module_version": "1.5.0",
          "state": {
            "_model_module": "@jupyter-widgets/controls",
            "_model_module_version": "1.5.0",
            "_model_name": "DescriptionStyleModel",
            "_view_count": null,
            "_view_module": "@jupyter-widgets/base",
            "_view_module_version": "1.2.0",
            "_view_name": "StyleView",
            "description_width": ""
          }
        },
        "77bf47e4a19740e280528acba4b5c491": {
          "model_module": "@jupyter-widgets/base",
          "model_name": "LayoutModel",
          "model_module_version": "1.2.0",
          "state": {
            "_model_module": "@jupyter-widgets/base",
            "_model_module_version": "1.2.0",
            "_model_name": "LayoutModel",
            "_view_count": null,
            "_view_module": "@jupyter-widgets/base",
            "_view_module_version": "1.2.0",
            "_view_name": "LayoutView",
            "align_content": null,
            "align_items": null,
            "align_self": null,
            "border": null,
            "bottom": null,
            "display": null,
            "flex": null,
            "flex_flow": null,
            "grid_area": null,
            "grid_auto_columns": null,
            "grid_auto_flow": null,
            "grid_auto_rows": null,
            "grid_column": null,
            "grid_gap": null,
            "grid_row": null,
            "grid_template_areas": null,
            "grid_template_columns": null,
            "grid_template_rows": null,
            "height": null,
            "justify_content": null,
            "justify_items": null,
            "left": null,
            "margin": null,
            "max_height": null,
            "max_width": null,
            "min_height": null,
            "min_width": null,
            "object_fit": null,
            "object_position": null,
            "order": null,
            "overflow": null,
            "overflow_x": null,
            "overflow_y": null,
            "padding": null,
            "right": null,
            "top": null,
            "visibility": null,
            "width": null
          }
        },
        "e593cb2fe4854188834fce5a3e278f89": {
          "model_module": "@jupyter-widgets/controls",
          "model_name": "ProgressStyleModel",
          "model_module_version": "1.5.0",
          "state": {
            "_model_module": "@jupyter-widgets/controls",
            "_model_module_version": "1.5.0",
            "_model_name": "ProgressStyleModel",
            "_view_count": null,
            "_view_module": "@jupyter-widgets/base",
            "_view_module_version": "1.2.0",
            "_view_name": "StyleView",
            "bar_color": null,
            "description_width": ""
          }
        },
        "5571afb9bebc4d09be0e72256426c193": {
          "model_module": "@jupyter-widgets/base",
          "model_name": "LayoutModel",
          "model_module_version": "1.2.0",
          "state": {
            "_model_module": "@jupyter-widgets/base",
            "_model_module_version": "1.2.0",
            "_model_name": "LayoutModel",
            "_view_count": null,
            "_view_module": "@jupyter-widgets/base",
            "_view_module_version": "1.2.0",
            "_view_name": "LayoutView",
            "align_content": null,
            "align_items": null,
            "align_self": null,
            "border": null,
            "bottom": null,
            "display": null,
            "flex": null,
            "flex_flow": null,
            "grid_area": null,
            "grid_auto_columns": null,
            "grid_auto_flow": null,
            "grid_auto_rows": null,
            "grid_column": null,
            "grid_gap": null,
            "grid_row": null,
            "grid_template_areas": null,
            "grid_template_columns": null,
            "grid_template_rows": null,
            "height": null,
            "justify_content": null,
            "justify_items": null,
            "left": null,
            "margin": null,
            "max_height": null,
            "max_width": null,
            "min_height": null,
            "min_width": null,
            "object_fit": null,
            "object_position": null,
            "order": null,
            "overflow": null,
            "overflow_x": null,
            "overflow_y": null,
            "padding": null,
            "right": null,
            "top": null,
            "visibility": null,
            "width": null
          }
        },
        "d158cf45971d469e83deb64cb004ffdf": {
          "model_module": "@jupyter-widgets/controls",
          "model_name": "DescriptionStyleModel",
          "model_module_version": "1.5.0",
          "state": {
            "_model_module": "@jupyter-widgets/controls",
            "_model_module_version": "1.5.0",
            "_model_name": "DescriptionStyleModel",
            "_view_count": null,
            "_view_module": "@jupyter-widgets/base",
            "_view_module_version": "1.2.0",
            "_view_name": "StyleView",
            "description_width": ""
          }
        },
        "0717f5ef4f9f458d9d8b32373fa29446": {
          "model_module": "@jupyter-widgets/controls",
          "model_name": "HBoxModel",
          "model_module_version": "1.5.0",
          "state": {
            "_dom_classes": [],
            "_model_module": "@jupyter-widgets/controls",
            "_model_module_version": "1.5.0",
            "_model_name": "HBoxModel",
            "_view_count": null,
            "_view_module": "@jupyter-widgets/controls",
            "_view_module_version": "1.5.0",
            "_view_name": "HBoxView",
            "box_style": "",
            "children": [
              "IPY_MODEL_018441cea4814c8faccc38e1f2a4949e",
              "IPY_MODEL_5b73355abd5a484c987997e7085cb9df",
              "IPY_MODEL_824e9d5e20c549d68776289b6c4ef28e"
            ],
            "layout": "IPY_MODEL_80ecdbfd469048a586c8709704d5caa2"
          }
        },
        "018441cea4814c8faccc38e1f2a4949e": {
          "model_module": "@jupyter-widgets/controls",
          "model_name": "HTMLModel",
          "model_module_version": "1.5.0",
          "state": {
            "_dom_classes": [],
            "_model_module": "@jupyter-widgets/controls",
            "_model_module_version": "1.5.0",
            "_model_name": "HTMLModel",
            "_view_count": null,
            "_view_module": "@jupyter-widgets/controls",
            "_view_module_version": "1.5.0",
            "_view_name": "HTMLView",
            "description": "",
            "description_tooltip": null,
            "layout": "IPY_MODEL_b2b27ca928394057a41e5668eeebe9de",
            "placeholder": "​",
            "style": "IPY_MODEL_ab35de36325844c199144aca7b70f559",
            "value": "Fetching 1 files: 100%"
          }
        },
        "5b73355abd5a484c987997e7085cb9df": {
          "model_module": "@jupyter-widgets/controls",
          "model_name": "FloatProgressModel",
          "model_module_version": "1.5.0",
          "state": {
            "_dom_classes": [],
            "_model_module": "@jupyter-widgets/controls",
            "_model_module_version": "1.5.0",
            "_model_name": "FloatProgressModel",
            "_view_count": null,
            "_view_module": "@jupyter-widgets/controls",
            "_view_module_version": "1.5.0",
            "_view_name": "ProgressView",
            "bar_style": "success",
            "description": "",
            "description_tooltip": null,
            "layout": "IPY_MODEL_02e517b6578949cd8b1ec39133859870",
            "max": 1,
            "min": 0,
            "orientation": "horizontal",
            "style": "IPY_MODEL_83ba006a7c074a9c9ecd6869a4c3858d",
            "value": 1
          }
        },
        "824e9d5e20c549d68776289b6c4ef28e": {
          "model_module": "@jupyter-widgets/controls",
          "model_name": "HTMLModel",
          "model_module_version": "1.5.0",
          "state": {
            "_dom_classes": [],
            "_model_module": "@jupyter-widgets/controls",
            "_model_module_version": "1.5.0",
            "_model_name": "HTMLModel",
            "_view_count": null,
            "_view_module": "@jupyter-widgets/controls",
            "_view_module_version": "1.5.0",
            "_view_name": "HTMLView",
            "description": "",
            "description_tooltip": null,
            "layout": "IPY_MODEL_60ed1b2dd679446aabd5a3c4a09c103d",
            "placeholder": "​",
            "style": "IPY_MODEL_a8515f3c643241cea982aa744e6cf024",
            "value": " 1/1 [00:00&lt;00:00, 70.95it/s]"
          }
        },
        "80ecdbfd469048a586c8709704d5caa2": {
          "model_module": "@jupyter-widgets/base",
          "model_name": "LayoutModel",
          "model_module_version": "1.2.0",
          "state": {
            "_model_module": "@jupyter-widgets/base",
            "_model_module_version": "1.2.0",
            "_model_name": "LayoutModel",
            "_view_count": null,
            "_view_module": "@jupyter-widgets/base",
            "_view_module_version": "1.2.0",
            "_view_name": "LayoutView",
            "align_content": null,
            "align_items": null,
            "align_self": null,
            "border": null,
            "bottom": null,
            "display": null,
            "flex": null,
            "flex_flow": null,
            "grid_area": null,
            "grid_auto_columns": null,
            "grid_auto_flow": null,
            "grid_auto_rows": null,
            "grid_column": null,
            "grid_gap": null,
            "grid_row": null,
            "grid_template_areas": null,
            "grid_template_columns": null,
            "grid_template_rows": null,
            "height": null,
            "justify_content": null,
            "justify_items": null,
            "left": null,
            "margin": null,
            "max_height": null,
            "max_width": null,
            "min_height": null,
            "min_width": null,
            "object_fit": null,
            "object_position": null,
            "order": null,
            "overflow": null,
            "overflow_x": null,
            "overflow_y": null,
            "padding": null,
            "right": null,
            "top": null,
            "visibility": null,
            "width": null
          }
        },
        "b2b27ca928394057a41e5668eeebe9de": {
          "model_module": "@jupyter-widgets/base",
          "model_name": "LayoutModel",
          "model_module_version": "1.2.0",
          "state": {
            "_model_module": "@jupyter-widgets/base",
            "_model_module_version": "1.2.0",
            "_model_name": "LayoutModel",
            "_view_count": null,
            "_view_module": "@jupyter-widgets/base",
            "_view_module_version": "1.2.0",
            "_view_name": "LayoutView",
            "align_content": null,
            "align_items": null,
            "align_self": null,
            "border": null,
            "bottom": null,
            "display": null,
            "flex": null,
            "flex_flow": null,
            "grid_area": null,
            "grid_auto_columns": null,
            "grid_auto_flow": null,
            "grid_auto_rows": null,
            "grid_column": null,
            "grid_gap": null,
            "grid_row": null,
            "grid_template_areas": null,
            "grid_template_columns": null,
            "grid_template_rows": null,
            "height": null,
            "justify_content": null,
            "justify_items": null,
            "left": null,
            "margin": null,
            "max_height": null,
            "max_width": null,
            "min_height": null,
            "min_width": null,
            "object_fit": null,
            "object_position": null,
            "order": null,
            "overflow": null,
            "overflow_x": null,
            "overflow_y": null,
            "padding": null,
            "right": null,
            "top": null,
            "visibility": null,
            "width": null
          }
        },
        "ab35de36325844c199144aca7b70f559": {
          "model_module": "@jupyter-widgets/controls",
          "model_name": "DescriptionStyleModel",
          "model_module_version": "1.5.0",
          "state": {
            "_model_module": "@jupyter-widgets/controls",
            "_model_module_version": "1.5.0",
            "_model_name": "DescriptionStyleModel",
            "_view_count": null,
            "_view_module": "@jupyter-widgets/base",
            "_view_module_version": "1.2.0",
            "_view_name": "StyleView",
            "description_width": ""
          }
        },
        "02e517b6578949cd8b1ec39133859870": {
          "model_module": "@jupyter-widgets/base",
          "model_name": "LayoutModel",
          "model_module_version": "1.2.0",
          "state": {
            "_model_module": "@jupyter-widgets/base",
            "_model_module_version": "1.2.0",
            "_model_name": "LayoutModel",
            "_view_count": null,
            "_view_module": "@jupyter-widgets/base",
            "_view_module_version": "1.2.0",
            "_view_name": "LayoutView",
            "align_content": null,
            "align_items": null,
            "align_self": null,
            "border": null,
            "bottom": null,
            "display": null,
            "flex": null,
            "flex_flow": null,
            "grid_area": null,
            "grid_auto_columns": null,
            "grid_auto_flow": null,
            "grid_auto_rows": null,
            "grid_column": null,
            "grid_gap": null,
            "grid_row": null,
            "grid_template_areas": null,
            "grid_template_columns": null,
            "grid_template_rows": null,
            "height": null,
            "justify_content": null,
            "justify_items": null,
            "left": null,
            "margin": null,
            "max_height": null,
            "max_width": null,
            "min_height": null,
            "min_width": null,
            "object_fit": null,
            "object_position": null,
            "order": null,
            "overflow": null,
            "overflow_x": null,
            "overflow_y": null,
            "padding": null,
            "right": null,
            "top": null,
            "visibility": null,
            "width": null
          }
        },
        "83ba006a7c074a9c9ecd6869a4c3858d": {
          "model_module": "@jupyter-widgets/controls",
          "model_name": "ProgressStyleModel",
          "model_module_version": "1.5.0",
          "state": {
            "_model_module": "@jupyter-widgets/controls",
            "_model_module_version": "1.5.0",
            "_model_name": "ProgressStyleModel",
            "_view_count": null,
            "_view_module": "@jupyter-widgets/base",
            "_view_module_version": "1.2.0",
            "_view_name": "StyleView",
            "bar_color": null,
            "description_width": ""
          }
        },
        "60ed1b2dd679446aabd5a3c4a09c103d": {
          "model_module": "@jupyter-widgets/base",
          "model_name": "LayoutModel",
          "model_module_version": "1.2.0",
          "state": {
            "_model_module": "@jupyter-widgets/base",
            "_model_module_version": "1.2.0",
            "_model_name": "LayoutModel",
            "_view_count": null,
            "_view_module": "@jupyter-widgets/base",
            "_view_module_version": "1.2.0",
            "_view_name": "LayoutView",
            "align_content": null,
            "align_items": null,
            "align_self": null,
            "border": null,
            "bottom": null,
            "display": null,
            "flex": null,
            "flex_flow": null,
            "grid_area": null,
            "grid_auto_columns": null,
            "grid_auto_flow": null,
            "grid_auto_rows": null,
            "grid_column": null,
            "grid_gap": null,
            "grid_row": null,
            "grid_template_areas": null,
            "grid_template_columns": null,
            "grid_template_rows": null,
            "height": null,
            "justify_content": null,
            "justify_items": null,
            "left": null,
            "margin": null,
            "max_height": null,
            "max_width": null,
            "min_height": null,
            "min_width": null,
            "object_fit": null,
            "object_position": null,
            "order": null,
            "overflow": null,
            "overflow_x": null,
            "overflow_y": null,
            "padding": null,
            "right": null,
            "top": null,
            "visibility": null,
            "width": null
          }
        },
        "a8515f3c643241cea982aa744e6cf024": {
          "model_module": "@jupyter-widgets/controls",
          "model_name": "DescriptionStyleModel",
          "model_module_version": "1.5.0",
          "state": {
            "_model_module": "@jupyter-widgets/controls",
            "_model_module_version": "1.5.0",
            "_model_name": "DescriptionStyleModel",
            "_view_count": null,
            "_view_module": "@jupyter-widgets/base",
            "_view_module_version": "1.2.0",
            "_view_name": "StyleView",
            "description_width": ""
          }
        }
      }
    }
  },
  "nbformat": 4,
  "nbformat_minor": 0
}